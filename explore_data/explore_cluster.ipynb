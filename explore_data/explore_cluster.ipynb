{
 "cells": [
  {
   "cell_type": "code",
   "execution_count": 103,
   "metadata": {},
   "outputs": [],
   "source": [
    "import pandas as pd\n",
    "import matplotlib.pyplot as plt\n",
    "from sklearn.cluster import KMeans\n",
    "import numpy as np"
   ]
  },
  {
   "cell_type": "code",
   "execution_count": 104,
   "metadata": {},
   "outputs": [
    {
     "data": {
      "text/html": [
       "<div>\n",
       "<style scoped>\n",
       "    .dataframe tbody tr th:only-of-type {\n",
       "        vertical-align: middle;\n",
       "    }\n",
       "\n",
       "    .dataframe tbody tr th {\n",
       "        vertical-align: top;\n",
       "    }\n",
       "\n",
       "    .dataframe thead th {\n",
       "        text-align: right;\n",
       "    }\n",
       "</style>\n",
       "<table border=\"1\" class=\"dataframe\">\n",
       "  <thead>\n",
       "    <tr style=\"text-align: right;\">\n",
       "      <th></th>\n",
       "      <th>loan_limit</th>\n",
       "      <th>approv_in_adv</th>\n",
       "      <th>Credit_Worthiness</th>\n",
       "      <th>open_credit</th>\n",
       "      <th>business_or_commercial</th>\n",
       "      <th>loan_amount</th>\n",
       "      <th>rate_of_interest</th>\n",
       "      <th>Upfront_charges</th>\n",
       "      <th>term</th>\n",
       "      <th>Neg_ammortization</th>\n",
       "      <th>...</th>\n",
       "      <th>age_25-34</th>\n",
       "      <th>age_35-44</th>\n",
       "      <th>age_45-54</th>\n",
       "      <th>age_55-64</th>\n",
       "      <th>age_65-74</th>\n",
       "      <th>age_&gt;74</th>\n",
       "      <th>Region_North</th>\n",
       "      <th>Region_Central</th>\n",
       "      <th>Region_South</th>\n",
       "      <th>Region_North-East</th>\n",
       "    </tr>\n",
       "  </thead>\n",
       "  <tbody>\n",
       "    <tr>\n",
       "      <th>0</th>\n",
       "      <td>1.0</td>\n",
       "      <td>0.0</td>\n",
       "      <td>0</td>\n",
       "      <td>0</td>\n",
       "      <td>1</td>\n",
       "      <td>206500</td>\n",
       "      <td>3.990</td>\n",
       "      <td>2596.45</td>\n",
       "      <td>360.0</td>\n",
       "      <td>0.0</td>\n",
       "      <td>...</td>\n",
       "      <td>0.0</td>\n",
       "      <td>0.0</td>\n",
       "      <td>0.0</td>\n",
       "      <td>1.0</td>\n",
       "      <td>0.0</td>\n",
       "      <td>0.0</td>\n",
       "      <td>1</td>\n",
       "      <td>0</td>\n",
       "      <td>0</td>\n",
       "      <td>0</td>\n",
       "    </tr>\n",
       "    <tr>\n",
       "      <th>1</th>\n",
       "      <td>1.0</td>\n",
       "      <td>0.0</td>\n",
       "      <td>0</td>\n",
       "      <td>0</td>\n",
       "      <td>0</td>\n",
       "      <td>466500</td>\n",
       "      <td>3.990</td>\n",
       "      <td>2596.45</td>\n",
       "      <td>360.0</td>\n",
       "      <td>0.0</td>\n",
       "      <td>...</td>\n",
       "      <td>0.0</td>\n",
       "      <td>0.0</td>\n",
       "      <td>1.0</td>\n",
       "      <td>0.0</td>\n",
       "      <td>0.0</td>\n",
       "      <td>0.0</td>\n",
       "      <td>1</td>\n",
       "      <td>0</td>\n",
       "      <td>0</td>\n",
       "      <td>0</td>\n",
       "    </tr>\n",
       "    <tr>\n",
       "      <th>2</th>\n",
       "      <td>1.0</td>\n",
       "      <td>0.0</td>\n",
       "      <td>0</td>\n",
       "      <td>0</td>\n",
       "      <td>1</td>\n",
       "      <td>656500</td>\n",
       "      <td>3.990</td>\n",
       "      <td>2596.45</td>\n",
       "      <td>360.0</td>\n",
       "      <td>0.0</td>\n",
       "      <td>...</td>\n",
       "      <td>0.0</td>\n",
       "      <td>1.0</td>\n",
       "      <td>0.0</td>\n",
       "      <td>0.0</td>\n",
       "      <td>0.0</td>\n",
       "      <td>0.0</td>\n",
       "      <td>1</td>\n",
       "      <td>0</td>\n",
       "      <td>0</td>\n",
       "      <td>0</td>\n",
       "    </tr>\n",
       "    <tr>\n",
       "      <th>3</th>\n",
       "      <td>1.0</td>\n",
       "      <td>0.0</td>\n",
       "      <td>0</td>\n",
       "      <td>0</td>\n",
       "      <td>0</td>\n",
       "      <td>106500</td>\n",
       "      <td>3.990</td>\n",
       "      <td>2596.45</td>\n",
       "      <td>240.0</td>\n",
       "      <td>0.0</td>\n",
       "      <td>...</td>\n",
       "      <td>0.0</td>\n",
       "      <td>0.0</td>\n",
       "      <td>1.0</td>\n",
       "      <td>0.0</td>\n",
       "      <td>0.0</td>\n",
       "      <td>0.0</td>\n",
       "      <td>0</td>\n",
       "      <td>1</td>\n",
       "      <td>0</td>\n",
       "      <td>0</td>\n",
       "    </tr>\n",
       "    <tr>\n",
       "      <th>4</th>\n",
       "      <td>1.0</td>\n",
       "      <td>0.0</td>\n",
       "      <td>0</td>\n",
       "      <td>0</td>\n",
       "      <td>0</td>\n",
       "      <td>406500</td>\n",
       "      <td>3.990</td>\n",
       "      <td>2596.45</td>\n",
       "      <td>360.0</td>\n",
       "      <td>0.0</td>\n",
       "      <td>...</td>\n",
       "      <td>0.0</td>\n",
       "      <td>0.0</td>\n",
       "      <td>1.0</td>\n",
       "      <td>0.0</td>\n",
       "      <td>0.0</td>\n",
       "      <td>0.0</td>\n",
       "      <td>1</td>\n",
       "      <td>0</td>\n",
       "      <td>0</td>\n",
       "      <td>0</td>\n",
       "    </tr>\n",
       "    <tr>\n",
       "      <th>...</th>\n",
       "      <td>...</td>\n",
       "      <td>...</td>\n",
       "      <td>...</td>\n",
       "      <td>...</td>\n",
       "      <td>...</td>\n",
       "      <td>...</td>\n",
       "      <td>...</td>\n",
       "      <td>...</td>\n",
       "      <td>...</td>\n",
       "      <td>...</td>\n",
       "      <td>...</td>\n",
       "      <td>...</td>\n",
       "      <td>...</td>\n",
       "      <td>...</td>\n",
       "      <td>...</td>\n",
       "      <td>...</td>\n",
       "      <td>...</td>\n",
       "      <td>...</td>\n",
       "      <td>...</td>\n",
       "      <td>...</td>\n",
       "      <td>...</td>\n",
       "    </tr>\n",
       "    <tr>\n",
       "      <th>148665</th>\n",
       "      <td>1.0</td>\n",
       "      <td>0.0</td>\n",
       "      <td>0</td>\n",
       "      <td>0</td>\n",
       "      <td>0</td>\n",
       "      <td>246500</td>\n",
       "      <td>4.125</td>\n",
       "      <td>3427.25</td>\n",
       "      <td>300.0</td>\n",
       "      <td>0.0</td>\n",
       "      <td>...</td>\n",
       "      <td>0.0</td>\n",
       "      <td>1.0</td>\n",
       "      <td>0.0</td>\n",
       "      <td>0.0</td>\n",
       "      <td>0.0</td>\n",
       "      <td>0.0</td>\n",
       "      <td>0</td>\n",
       "      <td>0</td>\n",
       "      <td>1</td>\n",
       "      <td>0</td>\n",
       "    </tr>\n",
       "    <tr>\n",
       "      <th>148666</th>\n",
       "      <td>1.0</td>\n",
       "      <td>0.0</td>\n",
       "      <td>0</td>\n",
       "      <td>0</td>\n",
       "      <td>0</td>\n",
       "      <td>246500</td>\n",
       "      <td>3.875</td>\n",
       "      <td>4661.38</td>\n",
       "      <td>360.0</td>\n",
       "      <td>0.0</td>\n",
       "      <td>...</td>\n",
       "      <td>0.0</td>\n",
       "      <td>0.0</td>\n",
       "      <td>0.0</td>\n",
       "      <td>0.0</td>\n",
       "      <td>1.0</td>\n",
       "      <td>0.0</td>\n",
       "      <td>0</td>\n",
       "      <td>0</td>\n",
       "      <td>1</td>\n",
       "      <td>0</td>\n",
       "    </tr>\n",
       "    <tr>\n",
       "      <th>148667</th>\n",
       "      <td>1.0</td>\n",
       "      <td>0.0</td>\n",
       "      <td>0</td>\n",
       "      <td>0</td>\n",
       "      <td>1</td>\n",
       "      <td>656500</td>\n",
       "      <td>3.990</td>\n",
       "      <td>2596.45</td>\n",
       "      <td>360.0</td>\n",
       "      <td>1.0</td>\n",
       "      <td>...</td>\n",
       "      <td>0.0</td>\n",
       "      <td>0.0</td>\n",
       "      <td>0.0</td>\n",
       "      <td>1.0</td>\n",
       "      <td>0.0</td>\n",
       "      <td>0.0</td>\n",
       "      <td>0</td>\n",
       "      <td>0</td>\n",
       "      <td>1</td>\n",
       "      <td>0</td>\n",
       "    </tr>\n",
       "    <tr>\n",
       "      <th>148668</th>\n",
       "      <td>1.0</td>\n",
       "      <td>0.0</td>\n",
       "      <td>0</td>\n",
       "      <td>0</td>\n",
       "      <td>0</td>\n",
       "      <td>656500</td>\n",
       "      <td>3.490</td>\n",
       "      <td>1190.05</td>\n",
       "      <td>360.0</td>\n",
       "      <td>1.0</td>\n",
       "      <td>...</td>\n",
       "      <td>0.0</td>\n",
       "      <td>0.0</td>\n",
       "      <td>1.0</td>\n",
       "      <td>0.0</td>\n",
       "      <td>0.0</td>\n",
       "      <td>0.0</td>\n",
       "      <td>0</td>\n",
       "      <td>0</td>\n",
       "      <td>1</td>\n",
       "      <td>0</td>\n",
       "    </tr>\n",
       "    <tr>\n",
       "      <th>148669</th>\n",
       "      <td>0.0</td>\n",
       "      <td>1.0</td>\n",
       "      <td>0</td>\n",
       "      <td>0</td>\n",
       "      <td>0</td>\n",
       "      <td>2226500</td>\n",
       "      <td>3.990</td>\n",
       "      <td>2596.45</td>\n",
       "      <td>360.0</td>\n",
       "      <td>0.0</td>\n",
       "      <td>...</td>\n",
       "      <td>0.0</td>\n",
       "      <td>0.0</td>\n",
       "      <td>1.0</td>\n",
       "      <td>0.0</td>\n",
       "      <td>0.0</td>\n",
       "      <td>0.0</td>\n",
       "      <td>0</td>\n",
       "      <td>0</td>\n",
       "      <td>1</td>\n",
       "      <td>0</td>\n",
       "    </tr>\n",
       "  </tbody>\n",
       "</table>\n",
       "<p>148670 rows × 52 columns</p>\n",
       "</div>"
      ],
      "text/plain": [
       "        loan_limit  approv_in_adv  Credit_Worthiness  open_credit  \\\n",
       "0              1.0            0.0                  0            0   \n",
       "1              1.0            0.0                  0            0   \n",
       "2              1.0            0.0                  0            0   \n",
       "3              1.0            0.0                  0            0   \n",
       "4              1.0            0.0                  0            0   \n",
       "...            ...            ...                ...          ...   \n",
       "148665         1.0            0.0                  0            0   \n",
       "148666         1.0            0.0                  0            0   \n",
       "148667         1.0            0.0                  0            0   \n",
       "148668         1.0            0.0                  0            0   \n",
       "148669         0.0            1.0                  0            0   \n",
       "\n",
       "        business_or_commercial  loan_amount  rate_of_interest  \\\n",
       "0                            1       206500             3.990   \n",
       "1                            0       466500             3.990   \n",
       "2                            1       656500             3.990   \n",
       "3                            0       106500             3.990   \n",
       "4                            0       406500             3.990   \n",
       "...                        ...          ...               ...   \n",
       "148665                       0       246500             4.125   \n",
       "148666                       0       246500             3.875   \n",
       "148667                       1       656500             3.990   \n",
       "148668                       0       656500             3.490   \n",
       "148669                       0      2226500             3.990   \n",
       "\n",
       "        Upfront_charges   term  Neg_ammortization  ...  age_25-34  age_35-44  \\\n",
       "0               2596.45  360.0                0.0  ...        0.0        0.0   \n",
       "1               2596.45  360.0                0.0  ...        0.0        0.0   \n",
       "2               2596.45  360.0                0.0  ...        0.0        1.0   \n",
       "3               2596.45  240.0                0.0  ...        0.0        0.0   \n",
       "4               2596.45  360.0                0.0  ...        0.0        0.0   \n",
       "...                 ...    ...                ...  ...        ...        ...   \n",
       "148665          3427.25  300.0                0.0  ...        0.0        1.0   \n",
       "148666          4661.38  360.0                0.0  ...        0.0        0.0   \n",
       "148667          2596.45  360.0                1.0  ...        0.0        0.0   \n",
       "148668          1190.05  360.0                1.0  ...        0.0        0.0   \n",
       "148669          2596.45  360.0                0.0  ...        0.0        0.0   \n",
       "\n",
       "        age_45-54  age_55-64  age_65-74  age_>74  Region_North  \\\n",
       "0             0.0        1.0        0.0      0.0             1   \n",
       "1             1.0        0.0        0.0      0.0             1   \n",
       "2             0.0        0.0        0.0      0.0             1   \n",
       "3             1.0        0.0        0.0      0.0             0   \n",
       "4             1.0        0.0        0.0      0.0             1   \n",
       "...           ...        ...        ...      ...           ...   \n",
       "148665        0.0        0.0        0.0      0.0             0   \n",
       "148666        0.0        0.0        1.0      0.0             0   \n",
       "148667        0.0        1.0        0.0      0.0             0   \n",
       "148668        1.0        0.0        0.0      0.0             0   \n",
       "148669        1.0        0.0        0.0      0.0             0   \n",
       "\n",
       "        Region_Central  Region_South  Region_North-East  \n",
       "0                    0             0                  0  \n",
       "1                    0             0                  0  \n",
       "2                    0             0                  0  \n",
       "3                    1             0                  0  \n",
       "4                    0             0                  0  \n",
       "...                ...           ...                ...  \n",
       "148665               0             1                  0  \n",
       "148666               0             1                  0  \n",
       "148667               0             1                  0  \n",
       "148668               0             1                  0  \n",
       "148669               0             1                  0  \n",
       "\n",
       "[148670 rows x 52 columns]"
      ]
     },
     "execution_count": 104,
     "metadata": {},
     "output_type": "execute_result"
    }
   ],
   "source": [
    "data = pd.read_csv('https://storage.googleapis.com/data-ia-final/data.csv')\n",
    "data.drop(['ID'], axis=1, inplace=True)\n",
    "data_normalized = pd.read_csv('../tmp/data/data_normalized.csv')\n",
    "target = data_normalized['Status']\n",
    "# data_normalized.drop(['Status'], axis=1, inplace=True)\n",
    "\n",
    "data_normalized"
   ]
  },
  {
   "cell_type": "code",
   "execution_count": 105,
   "metadata": {},
   "outputs": [],
   "source": [
    "inertias = []\n",
    "for k in range(1, 11):\n",
    "  kmeans = KMeans(n_clusters=k)\n",
    "  kmeans.fit(data_normalized)\n",
    "  inertias.append(kmeans.inertia_)\n"
   ]
  },
  {
   "cell_type": "code",
   "execution_count": 106,
   "metadata": {},
   "outputs": [
    {
     "data": {
      "image/png": "[encoded data removed]",
      "text/plain": [
       "<Figure size 640x480 with 1 Axes>"
      ]
     },
     "metadata": {},
     "output_type": "display_data"
    }
   ],
   "source": [
    "plt.plot(range(1, 11), inertias)\n",
    "plt.xlabel('Number of clusters')\n",
    "plt.ylabel('Inertia')\n",
    "plt.show()\n",
    "# 3 ou 4 clustes"
   ]
  },
  {
   "cell_type": "code",
   "execution_count": 107,
   "metadata": {},
   "outputs": [],
   "source": [
    "kmeans = KMeans(n_clusters=4)\n",
    "fitted = kmeans.fit(data_normalized)\n"
   ]
  },
  {
   "cell_type": "code",
   "execution_count": 120,
   "metadata": {},
   "outputs": [
    {
     "data": {
      "text/plain": [
       "array([1, 3, 3, ..., 0, 0, 2], dtype=int32)"
      ]
     },
     "execution_count": 120,
     "metadata": {},
     "output_type": "execute_result"
    }
   ],
   "source": [
    "labels = kmeans.labels_\n",
    "labels"
   ]
  },
  {
   "cell_type": "code",
   "execution_count": 109,
   "metadata": {},
   "outputs": [
    {
     "data": {
      "text/plain": [
       "37005"
      ]
     },
     "execution_count": 109,
     "metadata": {},
     "output_type": "execute_result"
    }
   ],
   "source": [
    "correct_labels = sum(target == labels)\n",
    "correct_labels"
   ]
  },
  {
   "cell_type": "code",
   "execution_count": 110,
   "metadata": {},
   "outputs": [
    {
     "data": {
      "text/plain": [
       "array([[1.00000000e+00, 0.00000000e+00, 0.00000000e+00, 0.00000000e+00,\n",
       "        1.00000000e+00, 2.06500000e+05, 3.99000000e+00, 2.59645000e+03,\n",
       "        3.60000000e+02, 0.00000000e+00, 0.00000000e+00, 1.00000000e+00,\n",
       "        4.18000000e+05, 0.00000000e+00, 1.00000000e+00, 1.00000000e+00,\n",
       "        4.98000000e+03, 5.52000000e+02, 1.00000000e+00, 1.00000000e+00,\n",
       "        7.51358696e+01, 1.00000000e+00, 1.00000000e+00, 3.90000000e+01,\n",
       "        1.00000000e+00, 0.00000000e+00, 0.00000000e+00, 0.00000000e+00,\n",
       "        1.00000000e+00, 0.00000000e+00, 1.00000000e+00, 0.00000000e+00,\n",
       "        0.00000000e+00, 0.00000000e+00, 1.00000000e+00, 0.00000000e+00,\n",
       "        0.00000000e+00, 1.00000000e+00, 0.00000000e+00, 0.00000000e+00,\n",
       "        0.00000000e+00, 0.00000000e+00, 0.00000000e+00, 0.00000000e+00,\n",
       "        0.00000000e+00, 1.00000000e+00, 0.00000000e+00, 0.00000000e+00,\n",
       "        1.00000000e+00, 0.00000000e+00, 0.00000000e+00, 0.00000000e+00]])"
      ]
     },
     "execution_count": 110,
     "metadata": {},
     "output_type": "execute_result"
    }
   ],
   "source": [
    "data_normalized.values[:1]"
   ]
  },
  {
   "cell_type": "code",
   "execution_count": 121,
   "metadata": {},
   "outputs": [
    {
     "data": {
      "text/plain": [
       "array([1, 3, 3, ..., 0, 0, 2], dtype=int32)"
      ]
     },
     "execution_count": 121,
     "metadata": {},
     "output_type": "execute_result"
    }
   ],
   "source": [
    "\n",
    "kmeans.predict(data_normalized)"
   ]
  },
  {
   "cell_type": "code",
   "execution_count": 114,
   "metadata": {},
   "outputs": [
    {
     "name": "stderr",
     "output_type": "stream",
     "text": [
      "/home/vinimarcili/anaconda3/envs/p39/lib/python3.9/site-packages/sklearn/base.py:450: UserWarning: X does not have valid feature names, but KMeans was fitted with feature names\n",
      "  warnings.warn(\n"
     ]
    },
    {
     "data": {
      "text/plain": [
       "3"
      ]
     },
     "execution_count": 114,
     "metadata": {},
     "output_type": "execute_result"
    }
   ],
   "source": [
    "\n",
    "kmeans.predict([data_normalized.iloc[1]])[0]"
   ]
  },
  {
   "cell_type": "code",
   "execution_count": 119,
   "metadata": {},
   "outputs": [
    {
     "data": {
      "text/plain": [
       "array([1, 3, 3, ..., 0, 0, 2], dtype=int32)"
      ]
     },
     "execution_count": 119,
     "metadata": {},
     "output_type": "execute_result"
    }
   ],
   "source": [
    "clusters = kmeans.predict(data_normalized)\n",
    "clusters"
   ]
  },
  {
   "cell_type": "code",
   "execution_count": 85,
   "metadata": {},
   "outputs": [
    {
     "data": {
      "image/png": "[encoded data removed]",
      "text/plain": [
       "<Figure size 640x480 with 1 Axes>"
      ]
     },
     "metadata": {},
     "output_type": "display_data"
    }
   ],
   "source": [
    "colors = {0:'red', 1:'white', 2:'white', 3:'white'}\n",
    "data_normalized.plot.scatter(x='income', y='total_units', c=data_normalized['cluster'].apply(lambda x: colors[x]))\n",
    "\n",
    "# Show the plot\n",
    "plt.show()"
   ]
  },
  {
   "cell_type": "code",
   "execution_count": 86,
   "metadata": {},
   "outputs": [
    {
     "name": "stdout",
     "output_type": "stream",
     "text": [
      "Cluster 0:\n",
      "0    55801\n",
      "1    15304\n",
      "Name: business_or_commercial, dtype: int64\n",
      "         loan_limit  approv_in_adv  Credit_Worthiness   open_credit  \\\n",
      "count  71105.000000   71105.000000       71105.000000  71105.000000   \n",
      "mean       0.932410       0.171380           0.043316      0.001631   \n",
      "std        0.251043       0.376844           0.203569      0.040358   \n",
      "min        0.000000       0.000000           0.000000      0.000000   \n",
      "25%        1.000000       0.000000           0.000000      0.000000   \n",
      "50%        1.000000       0.000000           0.000000      0.000000   \n",
      "75%        1.000000       0.000000           0.000000      0.000000   \n",
      "max        1.000000       1.000000           1.000000      1.000000   \n",
      "\n",
      "       business_or_commercial    loan_amount  rate_of_interest  \\\n",
      "count            71105.000000   71105.000000      71105.000000   \n",
      "mean                 0.215231  194307.045918          4.099444   \n",
      "std                  0.410985   68520.364863          0.485577   \n",
      "min                  0.000000   16500.000000          2.250000   \n",
      "25%                  0.000000  136500.000000          3.875000   \n",
      "50%                  0.000000  196500.000000          3.990000   \n",
      "75%                  0.000000  246500.000000          4.375000   \n",
      "max                  1.000000  626500.000000          8.000000   \n",
      "\n",
      "       Upfront_charges          term  Neg_ammortization  ...     age_35-44  \\\n",
      "count     71105.000000  71105.000000       71105.000000  ...  71105.000000   \n",
      "mean       2936.969433    328.208298           0.113241  ...      0.179790   \n",
      "std        1811.815450     64.886460           0.316889  ...      0.384016   \n",
      "min           0.000000     96.000000           0.000000  ...      0.000000   \n",
      "25%        2153.430000    360.000000           0.000000  ...      0.000000   \n",
      "50%        2596.450000    360.000000           0.000000  ...      0.000000   \n",
      "75%        3710.000000    360.000000           0.000000  ...      0.000000   \n",
      "max       14734.580000    360.000000           1.000000  ...      1.000000   \n",
      "\n",
      "          age_45-54     age_55-64     age_65-74       age_>74  Region_North  \\\n",
      "count  71105.000000  71105.000000  71105.000000  71105.000000  71105.000000   \n",
      "mean       0.208748      0.238197      0.174545      0.061290      0.505759   \n",
      "std        0.406417      0.425983      0.379580      0.239863      0.499970   \n",
      "min        0.000000      0.000000      0.000000      0.000000      0.000000   \n",
      "25%        0.000000      0.000000      0.000000      0.000000      0.000000   \n",
      "50%        0.000000      0.000000      0.000000      0.000000      1.000000   \n",
      "75%        0.000000      0.000000      0.000000      0.000000      1.000000   \n",
      "max        1.000000      1.000000      1.000000      1.000000      1.000000   \n",
      "\n",
      "       Region_Central  Region_South  Region_North-East  cluster  \n",
      "count    71105.000000  71105.000000       71105.000000  71105.0  \n",
      "mean         0.063329      0.421799           0.009113      0.0  \n",
      "std          0.243555      0.493850           0.095028      0.0  \n",
      "min          0.000000      0.000000           0.000000      0.0  \n",
      "25%          0.000000      0.000000           0.000000      0.0  \n",
      "50%          0.000000      0.000000           0.000000      0.0  \n",
      "75%          0.000000      1.000000           0.000000      0.0  \n",
      "max          1.000000      1.000000           1.000000      0.0  \n",
      "\n",
      "[8 rows x 53 columns]\n",
      "Cluster 1:\n",
      "0    19372\n",
      "1      498\n",
      "Name: business_or_commercial, dtype: int64\n",
      "         loan_limit  approv_in_adv  Credit_Worthiness   open_credit  \\\n",
      "count  19870.000000   19870.000000       19870.000000  19870.000000   \n",
      "mean       0.836085       0.124660           0.044439      0.009612   \n",
      "std        0.370208       0.330342           0.206073      0.097573   \n",
      "min        0.000000       0.000000           0.000000      0.000000   \n",
      "25%        1.000000       0.000000           0.000000      0.000000   \n",
      "50%        1.000000       0.000000           0.000000      0.000000   \n",
      "75%        1.000000       0.000000           0.000000      0.000000   \n",
      "max        1.000000       1.000000           1.000000      1.000000   \n",
      "\n",
      "       business_or_commercial   loan_amount  rate_of_interest  \\\n",
      "count            19870.000000  1.987000e+04      19870.000000   \n",
      "mean                 0.025063  5.727285e+05          3.969208   \n",
      "std                  0.156320  1.711531e+05          0.514350   \n",
      "min                  0.000000  4.650000e+04          2.250000   \n",
      "25%                  0.000000  4.765000e+05          3.625000   \n",
      "50%                  0.000000  5.865000e+05          3.990000   \n",
      "75%                  0.000000  6.665000e+05          4.250000   \n",
      "max                  1.000000  3.346500e+06          6.240000   \n",
      "\n",
      "       Upfront_charges          term  Neg_ammortization  ...     age_35-44  \\\n",
      "count     19870.000000  19870.000000       19870.000000  ...  19870.000000   \n",
      "mean       3248.147712    341.545244           0.082637  ...      0.252491   \n",
      "std        4251.075200     52.027122           0.275340  ...      0.434452   \n",
      "min           0.000000     96.000000           0.000000  ...      0.000000   \n",
      "25%           0.000000    360.000000           0.000000  ...      0.000000   \n",
      "50%        2155.520000    360.000000           0.000000  ...      0.000000   \n",
      "75%        4365.682500    360.000000           0.000000  ...      1.000000   \n",
      "max       33268.000000    360.000000           1.000000  ...      1.000000   \n",
      "\n",
      "          age_45-54     age_55-64     age_65-74      age_>74  Region_North  \\\n",
      "count  19870.000000  19870.000000  19870.000000  19870.00000  19870.000000   \n",
      "mean       0.273478      0.213387      0.112179      0.03996      0.488878   \n",
      "std        0.445755      0.409709      0.315595      0.19587      0.499889   \n",
      "min        0.000000      0.000000      0.000000      0.00000      0.000000   \n",
      "25%        0.000000      0.000000      0.000000      0.00000      0.000000   \n",
      "50%        0.000000      0.000000      0.000000      0.00000      0.000000   \n",
      "75%        1.000000      0.000000      0.000000      0.00000      1.000000   \n",
      "max        1.000000      1.000000      1.000000      1.00000      1.000000   \n",
      "\n",
      "       Region_Central  Region_South  Region_North-East  cluster  \n",
      "count    19870.000000  19870.000000       19870.000000  19870.0  \n",
      "mean         0.047257      0.457977           0.005888      1.0  \n",
      "std          0.212194      0.498243           0.076511      0.0  \n",
      "min          0.000000      0.000000           0.000000      1.0  \n",
      "25%          0.000000      0.000000           0.000000      1.0  \n",
      "50%          0.000000      0.000000           0.000000      1.0  \n",
      "75%          0.000000      1.000000           0.000000      1.0  \n",
      "max          1.000000      1.000000           1.000000      1.0  \n",
      "\n",
      "[8 rows x 53 columns]\n",
      "Cluster 2:\n",
      "0    1824\n",
      "1       5\n",
      "Name: business_or_commercial, dtype: int64\n",
      "        loan_limit  approv_in_adv  Credit_Worthiness  open_credit  \\\n",
      "count  1829.000000    1829.000000        1829.000000  1829.000000   \n",
      "mean      0.582832       0.107709           0.090760     0.061236   \n",
      "std       0.493226       0.310097           0.287346     0.239828   \n",
      "min       0.000000       0.000000           0.000000     0.000000   \n",
      "25%       0.000000       0.000000           0.000000     0.000000   \n",
      "50%       1.000000       0.000000           0.000000     0.000000   \n",
      "75%       1.000000       0.000000           0.000000     0.000000   \n",
      "max       1.000000       1.000000           1.000000     1.000000   \n",
      "\n",
      "       business_or_commercial   loan_amount  rate_of_interest  \\\n",
      "count             1829.000000  1.829000e+03       1829.000000   \n",
      "mean                 0.002734  7.749582e+05          3.956249   \n",
      "std                  0.052228  4.296768e+05          0.667179   \n",
      "min                  0.000000  5.650000e+04          2.250000   \n",
      "25%                  0.000000  4.865000e+05          3.625000   \n",
      "50%                  0.000000  6.965000e+05          3.990000   \n",
      "75%                  0.000000  9.965000e+05          4.125000   \n",
      "max                  1.000000  3.576500e+06          6.375000   \n",
      "\n",
      "       Upfront_charges         term  Neg_ammortization  ...    age_35-44  \\\n",
      "count      1829.000000  1829.000000        1829.000000  ...  1829.000000   \n",
      "mean       3432.855577   334.858393           0.104975  ...     0.132313   \n",
      "std        5197.658933    61.266360           0.306606  ...     0.338923   \n",
      "min           0.000000    96.000000           0.000000  ...     0.000000   \n",
      "25%         269.840000   360.000000           0.000000  ...     0.000000   \n",
      "50%        2596.450000   360.000000           0.000000  ...     0.000000   \n",
      "75%        2596.450000   360.000000           0.000000  ...     0.000000   \n",
      "max       60000.000000   360.000000           1.000000  ...     1.000000   \n",
      "\n",
      "         age_45-54    age_55-64    age_65-74      age_>74  Region_North  \\\n",
      "count  1829.000000  1829.000000  1829.000000  1829.000000   1829.000000   \n",
      "mean      0.288682     0.279388     0.184800     0.092400      0.489338   \n",
      "std       0.453274     0.448821     0.388242     0.289669      0.500023   \n",
      "min       0.000000     0.000000     0.000000     0.000000      0.000000   \n",
      "25%       0.000000     0.000000     0.000000     0.000000      0.000000   \n",
      "50%       0.000000     0.000000     0.000000     0.000000      0.000000   \n",
      "75%       1.000000     1.000000     0.000000     0.000000      1.000000   \n",
      "max       1.000000     1.000000     1.000000     1.000000      1.000000   \n",
      "\n",
      "       Region_Central  Region_South  Region_North-East  cluster  \n",
      "count     1829.000000   1829.000000        1829.000000   1829.0  \n",
      "mean         0.039366      0.469109           0.002187      2.0  \n",
      "std          0.194517      0.499181           0.046727      0.0  \n",
      "min          0.000000      0.000000           0.000000      2.0  \n",
      "25%          0.000000      0.000000           0.000000      2.0  \n",
      "50%          0.000000      0.000000           0.000000      2.0  \n",
      "75%          0.000000      1.000000           0.000000      2.0  \n",
      "max          1.000000      1.000000           1.000000      2.0  \n",
      "\n",
      "[8 rows x 53 columns]\n",
      "Cluster 3:\n",
      "0    50911\n",
      "1     4955\n",
      "Name: business_or_commercial, dtype: int64\n",
      "         loan_limit  approv_in_adv  Credit_Worthiness   open_credit  \\\n",
      "count  55866.000000   55866.000000       55866.000000  55866.000000   \n",
      "mean       0.919522       0.148230           0.039326      0.002452   \n",
      "std        0.272035       0.355331           0.194372      0.049460   \n",
      "min        0.000000       0.000000           0.000000      0.000000   \n",
      "25%        1.000000       0.000000           0.000000      0.000000   \n",
      "50%        1.000000       0.000000           0.000000      0.000000   \n",
      "75%        1.000000       0.000000           0.000000      0.000000   \n",
      "max        1.000000       1.000000           1.000000      1.000000   \n",
      "\n",
      "       business_or_commercial   loan_amount  rate_of_interest  \\\n",
      "count            55866.000000  5.586600e+04      55866.000000   \n",
      "mean                 0.088694  4.047821e+05          3.970649   \n",
      "std                  0.284305  1.054120e+05          0.463414   \n",
      "min                  0.000000  5.650000e+04          0.000000   \n",
      "25%                  0.000000  3.365000e+05          3.750000   \n",
      "50%                  0.000000  3.965000e+05          3.990000   \n",
      "75%                  0.000000  4.665000e+05          4.125000   \n",
      "max                  1.000000  1.316500e+06          7.750000   \n",
      "\n",
      "       Upfront_charges          term  Neg_ammortization  ...     age_35-44  \\\n",
      "count     55866.000000  55866.000000       55866.000000  ...  55866.000000   \n",
      "mean       3130.540027    341.702717           0.093850  ...      0.264472   \n",
      "std        3050.063103     50.139096           0.291622  ...      0.441056   \n",
      "min           0.000000     96.000000           0.000000  ...      0.000000   \n",
      "25%         802.525000    360.000000           0.000000  ...      0.000000   \n",
      "50%        2596.450000    360.000000           0.000000  ...      0.000000   \n",
      "75%        4250.000000    360.000000           0.000000  ...      1.000000   \n",
      "max       22797.750000    360.000000           1.000000  ...      1.000000   \n",
      "\n",
      "          age_45-54     age_55-64     age_65-74       age_>74  Region_North  \\\n",
      "count  55866.000000  55866.000000  55866.000000  55866.000000  55866.000000   \n",
      "mean       0.249078      0.194143      0.103211      0.033187      0.503902   \n",
      "std        0.432483      0.395543      0.304237      0.179125      0.499989   \n",
      "min        0.000000      0.000000      0.000000      0.000000      0.000000   \n",
      "25%        0.000000      0.000000      0.000000      0.000000      0.000000   \n",
      "50%        0.000000      0.000000      0.000000      0.000000      1.000000   \n",
      "75%        0.000000      0.000000      0.000000      0.000000      1.000000   \n",
      "max        1.000000      1.000000      1.000000      1.000000      1.000000   \n",
      "\n",
      "       Region_Central  Region_South  Region_North-East  cluster  \n",
      "count    55866.000000  55866.000000       55866.000000  55866.0  \n",
      "mean         0.056976      0.430781           0.008341      3.0  \n",
      "std          0.231798      0.495190           0.090950      0.0  \n",
      "min          0.000000      0.000000           0.000000      3.0  \n",
      "25%          0.000000      0.000000           0.000000      3.0  \n",
      "50%          0.000000      0.000000           0.000000      3.0  \n",
      "75%          0.000000      1.000000           0.000000      3.0  \n",
      "max          1.000000      1.000000           1.000000      3.0  \n",
      "\n",
      "[8 rows x 53 columns]\n"
     ]
    }
   ],
   "source": [
    "for c in set(data_normalized['cluster']):\n",
    "    cluster = data_normalized[data_normalized['cluster'] == c]\n",
    "    print(f\"Cluster {c}:\")\n",
    "    print(cluster['business_or_commercial'].value_counts())\n",
    "    print(cluster.describe())"
   ]
  },
  {
   "cell_type": "code",
   "execution_count": 87,
   "metadata": {},
   "outputs": [
    {
     "data": {
      "text/plain": [
       "High income         71105\n",
       "Average income      55866\n",
       "Low income          19870\n",
       "Very high income     1829\n",
       "Name: label, dtype: int64"
      ]
     },
     "execution_count": 87,
     "metadata": {},
     "output_type": "execute_result"
    }
   ],
   "source": [
    "data_normalized['label'] = data_normalized['cluster'].map({ 0: 'High income', 1: 'Low income', 2: 'Very high income', 3: 'Average income' })\n",
    "data_normalized['label'].value_counts()"
   ]
  },
  {
   "cell_type": "code",
   "execution_count": 93,
   "metadata": {},
   "outputs": [
    {
     "data": {
      "text/plain": [
       "cluster  Status\n",
       "0        0         51423\n",
       "         1         19682\n",
       "1        0         17323\n",
       "         1          2547\n",
       "2        0          1400\n",
       "         1           429\n",
       "3        0         41885\n",
       "         1         13981\n",
       "Name: Status, dtype: int64"
      ]
     },
     "execution_count": 93,
     "metadata": {},
     "output_type": "execute_result"
    }
   ],
   "source": [
    "grouped = data_normalized.groupby('cluster')\n",
    "grouped['Status'].value_counts()\n",
    "# fraud_propensity = grouped['Status'].mean()\n",
    "# fraud_propensity\n",
    "# 0 27.5% - High income\n",
    "# 1 12%.8% - Low income\n",
    "# 2 43.45% - Very high income\n",
    "# 3 25.02% - Average income"
   ]
  },
  {
   "cell_type": "code",
   "execution_count": 122,
   "metadata": {},
   "outputs": [
    {
     "data": {
      "text/plain": [
       "cluster\n",
       "0    71105\n",
       "1    19870\n",
       "2     1829\n",
       "3    55866\n",
       "Name: Status, dtype: int64"
      ]
     },
     "execution_count": 122,
     "metadata": {},
     "output_type": "execute_result"
    }
   ],
   "source": [
    "grouped['Status'].count()"
   ]
  },
  {
   "cell_type": "code",
   "execution_count": 118,
   "metadata": {},
   "outputs": [
    {
     "name": "stderr",
     "output_type": "stream",
     "text": [
      "/tmp/ipykernel_7619/729340344.py:2: SettingWithCopyWarning: \n",
      "A value is trying to be set on a copy of a slice from a DataFrame.\n",
      "Try using .loc[row_indexer,col_indexer] = value instead\n",
      "\n",
      "See the caveats in the documentation: https://pandas.pydata.org/pandas-docs/stable/user_guide/indexing.html#returning-a-view-versus-a-copy\n",
      "  frauds['cluster'] = kmeans.predict(frauds)\n"
     ]
    },
    {
     "ename": "KeyError",
     "evalue": "'cluster'",
     "output_type": "error",
     "traceback": [
      "\u001b[0;31m---------------------------------------------------------------------------\u001b[0m",
      "\u001b[0;31mKeyError\u001b[0m                                  Traceback (most recent call last)",
      "Cell \u001b[0;32mIn [118], line 4\u001b[0m\n\u001b[1;32m      2\u001b[0m frauds[\u001b[39m'\u001b[39m\u001b[39mcluster\u001b[39m\u001b[39m'\u001b[39m] \u001b[39m=\u001b[39m kmeans\u001b[39m.\u001b[39mpredict(frauds)\n\u001b[1;32m      3\u001b[0m frauds \u001b[39m=\u001b[39m frauds\u001b[39m.\u001b[39mgroupby(\u001b[39m'\u001b[39m\u001b[39mcluster\u001b[39m\u001b[39m'\u001b[39m)\u001b[39m.\u001b[39msize()\u001b[39m.\u001b[39mreset_index(name\u001b[39m=\u001b[39m\u001b[39m'\u001b[39m\u001b[39mfrauds\u001b[39m\u001b[39m'\u001b[39m)\n\u001b[0;32m----> 4\u001b[0m frauds[\u001b[39m'\u001b[39m\u001b[39mtotal\u001b[39m\u001b[39m'\u001b[39m] \u001b[39m=\u001b[39m data_normalized\u001b[39m.\u001b[39;49mgroupby(\u001b[39m'\u001b[39;49m\u001b[39mcluster\u001b[39;49m\u001b[39m'\u001b[39;49m)\u001b[39m.\u001b[39msize()\u001b[39m.\u001b[39mreset_index(name\u001b[39m=\u001b[39m\u001b[39m'\u001b[39m\u001b[39mtotal\u001b[39m\u001b[39m'\u001b[39m)[\u001b[39m'\u001b[39m\u001b[39mtotal\u001b[39m\u001b[39m'\u001b[39m]\n\u001b[1;32m      5\u001b[0m frauds[\u001b[39m'\u001b[39m\u001b[39mpercentage\u001b[39m\u001b[39m'\u001b[39m] \u001b[39m=\u001b[39m frauds[\u001b[39m'\u001b[39m\u001b[39mfrauds\u001b[39m\u001b[39m'\u001b[39m] \u001b[39m/\u001b[39m frauds[\u001b[39m'\u001b[39m\u001b[39mtotal\u001b[39m\u001b[39m'\u001b[39m]\n\u001b[1;32m      6\u001b[0m frauds \u001b[39m=\u001b[39m frauds[[\u001b[39m'\u001b[39m\u001b[39mcluster\u001b[39m\u001b[39m'\u001b[39m, \u001b[39m'\u001b[39m\u001b[39mpercentage\u001b[39m\u001b[39m'\u001b[39m]]\n",
      "File \u001b[0;32m~/anaconda3/envs/p39/lib/python3.9/site-packages/pandas/core/frame.py:8389\u001b[0m, in \u001b[0;36mDataFrame.groupby\u001b[0;34m(self, by, axis, level, as_index, sort, group_keys, squeeze, observed, dropna)\u001b[0m\n\u001b[1;32m   8386\u001b[0m     \u001b[39mraise\u001b[39;00m \u001b[39mTypeError\u001b[39;00m(\u001b[39m\"\u001b[39m\u001b[39mYou have to supply one of \u001b[39m\u001b[39m'\u001b[39m\u001b[39mby\u001b[39m\u001b[39m'\u001b[39m\u001b[39m and \u001b[39m\u001b[39m'\u001b[39m\u001b[39mlevel\u001b[39m\u001b[39m'\u001b[39m\u001b[39m\"\u001b[39m)\n\u001b[1;32m   8387\u001b[0m axis \u001b[39m=\u001b[39m \u001b[39mself\u001b[39m\u001b[39m.\u001b[39m_get_axis_number(axis)\n\u001b[0;32m-> 8389\u001b[0m \u001b[39mreturn\u001b[39;00m DataFrameGroupBy(\n\u001b[1;32m   8390\u001b[0m     obj\u001b[39m=\u001b[39;49m\u001b[39mself\u001b[39;49m,\n\u001b[1;32m   8391\u001b[0m     keys\u001b[39m=\u001b[39;49mby,\n\u001b[1;32m   8392\u001b[0m     axis\u001b[39m=\u001b[39;49maxis,\n\u001b[1;32m   8393\u001b[0m     level\u001b[39m=\u001b[39;49mlevel,\n\u001b[1;32m   8394\u001b[0m     as_index\u001b[39m=\u001b[39;49mas_index,\n\u001b[1;32m   8395\u001b[0m     sort\u001b[39m=\u001b[39;49msort,\n\u001b[1;32m   8396\u001b[0m     group_keys\u001b[39m=\u001b[39;49mgroup_keys,\n\u001b[1;32m   8397\u001b[0m     squeeze\u001b[39m=\u001b[39;49msqueeze,\n\u001b[1;32m   8398\u001b[0m     observed\u001b[39m=\u001b[39;49mobserved,\n\u001b[1;32m   8399\u001b[0m     dropna\u001b[39m=\u001b[39;49mdropna,\n\u001b[1;32m   8400\u001b[0m )\n",
      "File \u001b[0;32m~/anaconda3/envs/p39/lib/python3.9/site-packages/pandas/core/groupby/groupby.py:959\u001b[0m, in \u001b[0;36mGroupBy.__init__\u001b[0;34m(self, obj, keys, axis, level, grouper, exclusions, selection, as_index, sort, group_keys, squeeze, observed, mutated, dropna)\u001b[0m\n\u001b[1;32m    956\u001b[0m \u001b[39mif\u001b[39;00m grouper \u001b[39mis\u001b[39;00m \u001b[39mNone\u001b[39;00m:\n\u001b[1;32m    957\u001b[0m     \u001b[39mfrom\u001b[39;00m \u001b[39mpandas\u001b[39;00m\u001b[39m.\u001b[39;00m\u001b[39mcore\u001b[39;00m\u001b[39m.\u001b[39;00m\u001b[39mgroupby\u001b[39;00m\u001b[39m.\u001b[39;00m\u001b[39mgrouper\u001b[39;00m \u001b[39mimport\u001b[39;00m get_grouper\n\u001b[0;32m--> 959\u001b[0m     grouper, exclusions, obj \u001b[39m=\u001b[39m get_grouper(\n\u001b[1;32m    960\u001b[0m         obj,\n\u001b[1;32m    961\u001b[0m         keys,\n\u001b[1;32m    962\u001b[0m         axis\u001b[39m=\u001b[39;49maxis,\n\u001b[1;32m    963\u001b[0m         level\u001b[39m=\u001b[39;49mlevel,\n\u001b[1;32m    964\u001b[0m         sort\u001b[39m=\u001b[39;49msort,\n\u001b[1;32m    965\u001b[0m         observed\u001b[39m=\u001b[39;49mobserved,\n\u001b[1;32m    966\u001b[0m         mutated\u001b[39m=\u001b[39;49m\u001b[39mself\u001b[39;49m\u001b[39m.\u001b[39;49mmutated,\n\u001b[1;32m    967\u001b[0m         dropna\u001b[39m=\u001b[39;49m\u001b[39mself\u001b[39;49m\u001b[39m.\u001b[39;49mdropna,\n\u001b[1;32m    968\u001b[0m     )\n\u001b[1;32m    970\u001b[0m \u001b[39mself\u001b[39m\u001b[39m.\u001b[39mobj \u001b[39m=\u001b[39m obj\n\u001b[1;32m    971\u001b[0m \u001b[39mself\u001b[39m\u001b[39m.\u001b[39maxis \u001b[39m=\u001b[39m obj\u001b[39m.\u001b[39m_get_axis_number(axis)\n",
      "File \u001b[0;32m~/anaconda3/envs/p39/lib/python3.9/site-packages/pandas/core/groupby/grouper.py:888\u001b[0m, in \u001b[0;36mget_grouper\u001b[0;34m(obj, key, axis, level, sort, observed, mutated, validate, dropna)\u001b[0m\n\u001b[1;32m    886\u001b[0m         in_axis, level, gpr \u001b[39m=\u001b[39m \u001b[39mFalse\u001b[39;00m, gpr, \u001b[39mNone\u001b[39;00m\n\u001b[1;32m    887\u001b[0m     \u001b[39melse\u001b[39;00m:\n\u001b[0;32m--> 888\u001b[0m         \u001b[39mraise\u001b[39;00m \u001b[39mKeyError\u001b[39;00m(gpr)\n\u001b[1;32m    889\u001b[0m \u001b[39melif\u001b[39;00m \u001b[39misinstance\u001b[39m(gpr, Grouper) \u001b[39mand\u001b[39;00m gpr\u001b[39m.\u001b[39mkey \u001b[39mis\u001b[39;00m \u001b[39mnot\u001b[39;00m \u001b[39mNone\u001b[39;00m:\n\u001b[1;32m    890\u001b[0m     \u001b[39m# Add key to exclusions\u001b[39;00m\n\u001b[1;32m    891\u001b[0m     exclusions\u001b[39m.\u001b[39madd(gpr\u001b[39m.\u001b[39mkey)\n",
      "\u001b[0;31mKeyError\u001b[0m: 'cluster'"
     ]
    }
   ],
   "source": [
    "frauds = data_normalized[data_normalized['Status'] == 1]\n",
    "frauds['cluster'] = kmeans.predict(frauds)\n",
    "frauds = frauds.groupby('cluster').size().reset_index(name='frauds')\n",
    "frauds['total'] = data_normalized.groupby('cluster').size().reset_index(name='total')['total']\n",
    "frauds['percentage'] = frauds['frauds'] / frauds['total']\n",
    "frauds = frauds[['cluster', 'percentage']]"
   ]
  },
  {
   "cell_type": "code",
   "execution_count": 117,
   "metadata": {},
   "outputs": [
    {
     "data": {
      "text/plain": [
       "cluster\n",
       "0    0.276802\n",
       "1    0.128183\n",
       "2    0.234554\n",
       "3    0.250260\n",
       "Name: Status, dtype: float64"
      ]
     },
     "execution_count": 117,
     "metadata": {},
     "output_type": "execute_result"
    }
   ],
   "source": [
    "## Calculate the percentage of frauds in each cluster\n",
    "fraud_propensity = grouped['Status'].mean()\n",
    "fraud_propensity"
   ]
  }
 ],
 "metadata": {
  "kernelspec": {
   "display_name": "p39",
   "language": "python",
   "name": "python3"
  },
  "language_info": {
   "codemirror_mode": {
    "name": "ipython",
    "version": 3
   },
   "file_extension": ".py",
   "mimetype": "text/x-python",
   "name": "python",
   "nbconvert_exporter": "python",
   "pygments_lexer": "ipython3",
   "version": "3.9.15"
  },
  "orig_nbformat": 4,
  "vscode": {
   "interpreter": {
    "hash": "c949d1b7dcff3fcceb0da5aced114b587528cd3f88416c3ee64025e318ee24c7"
   }
  }
 },
 "nbformat": 4,
 "nbformat_minor": 2
}

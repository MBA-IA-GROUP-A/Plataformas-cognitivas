{
 "cells": [
  {
   "cell_type": "code",
   "execution_count": 2,
   "id": "579e83f3",
   "metadata": {},
   "outputs": [
    {
     "name": "stdout",
     "output_type": "stream",
     "text": [
      "Requirement already satisfied: scikit-learn in c:\\users\\saofagar\\anaconda3\\lib\\site-packages (1.0.2)\n",
      "Requirement already satisfied: numpy>=1.14.6 in c:\\users\\saofagar\\anaconda3\\lib\\site-packages (from scikit-learn) (1.21.5)\n",
      "Requirement already satisfied: joblib>=0.11 in c:\\users\\saofagar\\anaconda3\\lib\\site-packages (from scikit-learn) (1.1.0)\n",
      "Requirement already satisfied: scipy>=1.1.0 in c:\\users\\saofagar\\anaconda3\\lib\\site-packages (from scikit-learn) (1.9.1)\n",
      "Requirement already satisfied: threadpoolctl>=2.0.0 in c:\\users\\saofagar\\anaconda3\\lib\\site-packages (from scikit-learn) (2.2.0)\n",
      "Collecting tensorflow\n",
      "  Downloading tensorflow-2.11.0-cp39-cp39-win_amd64.whl (1.9 kB)\n",
      "Collecting tensorflow-intel==2.11.0\n",
      "  Downloading tensorflow_intel-2.11.0-cp39-cp39-win_amd64.whl (266.3 MB)\n",
      "     -------------------------------------- 266.3/266.3 MB 2.3 MB/s eta 0:00:00\n",
      "Collecting keras<2.12,>=2.11.0\n",
      "  Using cached keras-2.11.0-py2.py3-none-any.whl (1.7 MB)\n",
      "Collecting gast<=0.4.0,>=0.2.1\n",
      "  Using cached gast-0.4.0-py3-none-any.whl (9.8 kB)\n",
      "Collecting google-pasta>=0.1.1\n",
      "  Using cached google_pasta-0.2.0-py3-none-any.whl (57 kB)\n",
      "Collecting protobuf<3.20,>=3.9.2\n",
      "  Downloading protobuf-3.19.6-cp39-cp39-win_amd64.whl (895 kB)\n",
      "     -------------------------------------- 895.9/895.9 kB 8.1 MB/s eta 0:00:00\n",
      "Collecting tensorflow-io-gcs-filesystem>=0.23.1\n",
      "  Downloading tensorflow_io_gcs_filesystem-0.28.0-cp39-cp39-win_amd64.whl (1.5 MB)\n",
      "     ---------------------------------------- 1.5/1.5 MB 7.9 MB/s eta 0:00:00\n",
      "Collecting termcolor>=1.1.0\n",
      "  Using cached termcolor-2.1.1-py3-none-any.whl (6.2 kB)\n",
      "Collecting grpcio<2.0,>=1.24.3\n",
      "  Downloading grpcio-1.51.1-cp39-cp39-win_amd64.whl (3.7 MB)\n",
      "     ---------------------------------------- 3.7/3.7 MB 7.5 MB/s eta 0:00:00\n",
      "Requirement already satisfied: h5py>=2.9.0 in c:\\users\\saofagar\\anaconda3\\lib\\site-packages (from tensorflow-intel==2.11.0->tensorflow) (3.7.0)\n",
      "Requirement already satisfied: typing-extensions>=3.6.6 in c:\\users\\saofagar\\anaconda3\\lib\\site-packages (from tensorflow-intel==2.11.0->tensorflow) (4.3.0)\n",
      "Collecting tensorflow-estimator<2.12,>=2.11.0\n",
      "  Using cached tensorflow_estimator-2.11.0-py2.py3-none-any.whl (439 kB)\n",
      "Requirement already satisfied: numpy>=1.20 in c:\\users\\saofagar\\anaconda3\\lib\\site-packages (from tensorflow-intel==2.11.0->tensorflow) (1.21.5)\n",
      "Requirement already satisfied: setuptools in c:\\users\\saofagar\\anaconda3\\lib\\site-packages (from tensorflow-intel==2.11.0->tensorflow) (63.4.1)\n",
      "Collecting opt-einsum>=2.3.2\n",
      "  Using cached opt_einsum-3.3.0-py3-none-any.whl (65 kB)\n",
      "Collecting flatbuffers>=2.0\n",
      "  Using cached flatbuffers-22.12.6-py2.py3-none-any.whl (26 kB)\n",
      "Requirement already satisfied: wrapt>=1.11.0 in c:\\users\\saofagar\\anaconda3\\lib\\site-packages (from tensorflow-intel==2.11.0->tensorflow) (1.14.1)\n",
      "Collecting libclang>=13.0.0\n",
      "  Using cached libclang-14.0.6-py2.py3-none-win_amd64.whl (14.2 MB)\n",
      "Requirement already satisfied: six>=1.12.0 in c:\\users\\saofagar\\anaconda3\\lib\\site-packages (from tensorflow-intel==2.11.0->tensorflow) (1.16.0)\n",
      "Collecting astunparse>=1.6.0\n",
      "  Using cached astunparse-1.6.3-py2.py3-none-any.whl (12 kB)\n",
      "Collecting absl-py>=1.0.0\n",
      "  Using cached absl_py-1.3.0-py3-none-any.whl (124 kB)\n",
      "Requirement already satisfied: packaging in c:\\users\\saofagar\\anaconda3\\lib\\site-packages (from tensorflow-intel==2.11.0->tensorflow) (21.3)\n",
      "Collecting tensorboard<2.12,>=2.11\n",
      "  Using cached tensorboard-2.11.0-py3-none-any.whl (6.0 MB)\n",
      "Requirement already satisfied: wheel<1.0,>=0.23.0 in c:\\users\\saofagar\\anaconda3\\lib\\site-packages (from astunparse>=1.6.0->tensorflow-intel==2.11.0->tensorflow) (0.37.1)\n",
      "Requirement already satisfied: werkzeug>=1.0.1 in c:\\users\\saofagar\\anaconda3\\lib\\site-packages (from tensorboard<2.12,>=2.11->tensorflow-intel==2.11.0->tensorflow) (2.0.3)\n",
      "Requirement already satisfied: markdown>=2.6.8 in c:\\users\\saofagar\\anaconda3\\lib\\site-packages (from tensorboard<2.12,>=2.11->tensorflow-intel==2.11.0->tensorflow) (3.3.4)\n",
      "Collecting tensorboard-plugin-wit>=1.6.0\n",
      "  Using cached tensorboard_plugin_wit-1.8.1-py3-none-any.whl (781 kB)\n",
      "Collecting tensorboard-data-server<0.7.0,>=0.6.0\n",
      "  Using cached tensorboard_data_server-0.6.1-py3-none-any.whl (2.4 kB)\n",
      "Collecting google-auth<3,>=1.6.3\n",
      "  Downloading google_auth-2.15.0-py2.py3-none-any.whl (177 kB)\n",
      "     -------------------------------------- 177.0/177.0 kB 5.2 MB/s eta 0:00:00\n",
      "Requirement already satisfied: requests<3,>=2.21.0 in c:\\users\\saofagar\\anaconda3\\lib\\site-packages (from tensorboard<2.12,>=2.11->tensorflow-intel==2.11.0->tensorflow) (2.28.1)\n",
      "Collecting google-auth-oauthlib<0.5,>=0.4.1\n",
      "  Using cached google_auth_oauthlib-0.4.6-py2.py3-none-any.whl (18 kB)\n",
      "Requirement already satisfied: pyparsing!=3.0.5,>=2.0.2 in c:\\users\\saofagar\\anaconda3\\lib\\site-packages (from packaging->tensorflow-intel==2.11.0->tensorflow) (3.0.9)\n",
      "Requirement already satisfied: pyasn1-modules>=0.2.1 in c:\\users\\saofagar\\anaconda3\\lib\\site-packages (from google-auth<3,>=1.6.3->tensorboard<2.12,>=2.11->tensorflow-intel==2.11.0->tensorflow) (0.2.8)\n",
      "Collecting cachetools<6.0,>=2.0.0\n",
      "  Using cached cachetools-5.2.0-py3-none-any.whl (9.3 kB)\n",
      "Collecting rsa<5,>=3.1.4\n",
      "  Using cached rsa-4.9-py3-none-any.whl (34 kB)\n",
      "Collecting requests-oauthlib>=0.7.0\n",
      "  Using cached requests_oauthlib-1.3.1-py2.py3-none-any.whl (23 kB)\n",
      "Requirement already satisfied: urllib3<1.27,>=1.21.1 in c:\\users\\saofagar\\anaconda3\\lib\\site-packages (from requests<3,>=2.21.0->tensorboard<2.12,>=2.11->tensorflow-intel==2.11.0->tensorflow) (1.26.11)\n",
      "Requirement already satisfied: certifi>=2017.4.17 in c:\\users\\saofagar\\anaconda3\\lib\\site-packages (from requests<3,>=2.21.0->tensorboard<2.12,>=2.11->tensorflow-intel==2.11.0->tensorflow) (2022.9.14)\n",
      "Requirement already satisfied: charset-normalizer<3,>=2 in c:\\users\\saofagar\\anaconda3\\lib\\site-packages (from requests<3,>=2.21.0->tensorboard<2.12,>=2.11->tensorflow-intel==2.11.0->tensorflow) (2.0.4)\n",
      "Requirement already satisfied: idna<4,>=2.5 in c:\\users\\saofagar\\anaconda3\\lib\\site-packages (from requests<3,>=2.21.0->tensorboard<2.12,>=2.11->tensorflow-intel==2.11.0->tensorflow) (3.3)\n",
      "Requirement already satisfied: pyasn1<0.5.0,>=0.4.6 in c:\\users\\saofagar\\anaconda3\\lib\\site-packages (from pyasn1-modules>=0.2.1->google-auth<3,>=1.6.3->tensorboard<2.12,>=2.11->tensorflow-intel==2.11.0->tensorflow) (0.4.8)\n",
      "Collecting oauthlib>=3.0.0\n",
      "  Using cached oauthlib-3.2.2-py3-none-any.whl (151 kB)\n",
      "Installing collected packages: tensorboard-plugin-wit, libclang, flatbuffers, termcolor, tensorflow-io-gcs-filesystem, tensorflow-estimator, tensorboard-data-server, rsa, protobuf, opt-einsum, oauthlib, keras, grpcio, google-pasta, gast, cachetools, astunparse, absl-py, requests-oauthlib, google-auth, google-auth-oauthlib, tensorboard, tensorflow-intel, tensorflow\n",
      "Successfully installed absl-py-1.3.0 astunparse-1.6.3 cachetools-5.2.0 flatbuffers-22.12.6 gast-0.4.0 google-auth-2.15.0 google-auth-oauthlib-0.4.6 google-pasta-0.2.0 grpcio-1.51.1 keras-2.11.0 libclang-14.0.6 oauthlib-3.2.2 opt-einsum-3.3.0 protobuf-3.19.6 requests-oauthlib-1.3.1 rsa-4.9 tensorboard-2.11.0 tensorboard-data-server-0.6.1 tensorboard-plugin-wit-1.8.1 tensorflow-2.11.0 tensorflow-estimator-2.11.0 tensorflow-intel-2.11.0 tensorflow-io-gcs-filesystem-0.28.0 termcolor-2.1.1\n"
     ]
    }
   ],
   "source": [
    "!pip install scikit-learn\n",
    "!pip install tensorflow"
   ]
  },
  {
   "cell_type": "markdown",
   "id": "9c41d565",
   "metadata": {},
   "source": [
    "# Clusterização e classificação"
   ]
  },
  {
   "cell_type": "code",
   "execution_count": 54,
   "id": "f095a37b",
   "metadata": {},
   "outputs": [],
   "source": [
    "%matplotlib inline\n",
    "import pandas as pd\n",
    "import matplotlib.pyplot as plt\n",
    "import seaborn as sns\n",
    "import tensorflow as tf\n",
    "from tensorflow import keras\n",
    "from keras import layers\n",
    "from sklearn.cluster import KMeans\n",
    "import numpy as np\n",
    "import warnings\n",
    "\n",
    "warnings.filterwarnings('ignore')\n",
    "\n",
    "sns.set_style('whitegrid', {\"axes.grid\" : False})\n",
    "sns.set_context('notebook')\n",
    "np.random.seed(42)"
   ]
  },
  {
   "cell_type": "code",
   "execution_count": 139,
   "id": "18e096d6",
   "metadata": {},
   "outputs": [],
   "source": [
    "data_normalized = pd.read_csv('../tmp/data/data_normalized.csv')\n",
    "data_normalized.drop(['Status'], axis=1, inplace=True)\n",
    "\n",
    "data = pd.read_csv('https://storage.googleapis.com/data-ia-final/data.csv')\n",
    "target = data['Status']\n",
    "data.drop(['ID', 'Status'], axis=1, inplace=True)"
   ]
  },
  {
   "cell_type": "markdown",
   "id": "284146ee",
   "metadata": {},
   "source": [
    "### Dataset normalizado"
   ]
  },
  {
   "cell_type": "code",
   "execution_count": 26,
   "id": "9d8a530d",
   "metadata": {},
   "outputs": [
    {
     "data": {
      "text/html": [
       "<div>\n",
       "<style scoped>\n",
       "    .dataframe tbody tr th:only-of-type {\n",
       "        vertical-align: middle;\n",
       "    }\n",
       "\n",
       "    .dataframe tbody tr th {\n",
       "        vertical-align: top;\n",
       "    }\n",
       "\n",
       "    .dataframe thead th {\n",
       "        text-align: right;\n",
       "    }\n",
       "</style>\n",
       "<table border=\"1\" class=\"dataframe\">\n",
       "  <thead>\n",
       "    <tr style=\"text-align: right;\">\n",
       "      <th></th>\n",
       "      <th>loan_limit</th>\n",
       "      <th>approv_in_adv</th>\n",
       "      <th>Credit_Worthiness</th>\n",
       "      <th>open_credit</th>\n",
       "      <th>business_or_commercial</th>\n",
       "      <th>loan_amount</th>\n",
       "      <th>rate_of_interest</th>\n",
       "      <th>Upfront_charges</th>\n",
       "      <th>term</th>\n",
       "      <th>Neg_ammortization</th>\n",
       "      <th>...</th>\n",
       "      <th>age_25-34</th>\n",
       "      <th>age_35-44</th>\n",
       "      <th>age_45-54</th>\n",
       "      <th>age_55-64</th>\n",
       "      <th>age_65-74</th>\n",
       "      <th>age_&gt;74</th>\n",
       "      <th>Region_North</th>\n",
       "      <th>Region_Central</th>\n",
       "      <th>Region_South</th>\n",
       "      <th>Region_North-East</th>\n",
       "    </tr>\n",
       "  </thead>\n",
       "  <tbody>\n",
       "    <tr>\n",
       "      <th>0</th>\n",
       "      <td>1.0</td>\n",
       "      <td>0.0</td>\n",
       "      <td>0</td>\n",
       "      <td>0</td>\n",
       "      <td>1</td>\n",
       "      <td>206500</td>\n",
       "      <td>3.99</td>\n",
       "      <td>2596.45</td>\n",
       "      <td>360.0</td>\n",
       "      <td>0.0</td>\n",
       "      <td>...</td>\n",
       "      <td>0.0</td>\n",
       "      <td>0.0</td>\n",
       "      <td>0.0</td>\n",
       "      <td>1.0</td>\n",
       "      <td>0.0</td>\n",
       "      <td>0.0</td>\n",
       "      <td>1</td>\n",
       "      <td>0</td>\n",
       "      <td>0</td>\n",
       "      <td>0</td>\n",
       "    </tr>\n",
       "    <tr>\n",
       "      <th>1</th>\n",
       "      <td>1.0</td>\n",
       "      <td>0.0</td>\n",
       "      <td>0</td>\n",
       "      <td>0</td>\n",
       "      <td>0</td>\n",
       "      <td>466500</td>\n",
       "      <td>3.99</td>\n",
       "      <td>2596.45</td>\n",
       "      <td>360.0</td>\n",
       "      <td>0.0</td>\n",
       "      <td>...</td>\n",
       "      <td>0.0</td>\n",
       "      <td>0.0</td>\n",
       "      <td>1.0</td>\n",
       "      <td>0.0</td>\n",
       "      <td>0.0</td>\n",
       "      <td>0.0</td>\n",
       "      <td>1</td>\n",
       "      <td>0</td>\n",
       "      <td>0</td>\n",
       "      <td>0</td>\n",
       "    </tr>\n",
       "    <tr>\n",
       "      <th>2</th>\n",
       "      <td>1.0</td>\n",
       "      <td>0.0</td>\n",
       "      <td>0</td>\n",
       "      <td>0</td>\n",
       "      <td>1</td>\n",
       "      <td>656500</td>\n",
       "      <td>3.99</td>\n",
       "      <td>2596.45</td>\n",
       "      <td>360.0</td>\n",
       "      <td>0.0</td>\n",
       "      <td>...</td>\n",
       "      <td>0.0</td>\n",
       "      <td>1.0</td>\n",
       "      <td>0.0</td>\n",
       "      <td>0.0</td>\n",
       "      <td>0.0</td>\n",
       "      <td>0.0</td>\n",
       "      <td>1</td>\n",
       "      <td>0</td>\n",
       "      <td>0</td>\n",
       "      <td>0</td>\n",
       "    </tr>\n",
       "    <tr>\n",
       "      <th>3</th>\n",
       "      <td>1.0</td>\n",
       "      <td>0.0</td>\n",
       "      <td>0</td>\n",
       "      <td>0</td>\n",
       "      <td>0</td>\n",
       "      <td>106500</td>\n",
       "      <td>3.99</td>\n",
       "      <td>2596.45</td>\n",
       "      <td>240.0</td>\n",
       "      <td>0.0</td>\n",
       "      <td>...</td>\n",
       "      <td>0.0</td>\n",
       "      <td>0.0</td>\n",
       "      <td>1.0</td>\n",
       "      <td>0.0</td>\n",
       "      <td>0.0</td>\n",
       "      <td>0.0</td>\n",
       "      <td>0</td>\n",
       "      <td>1</td>\n",
       "      <td>0</td>\n",
       "      <td>0</td>\n",
       "    </tr>\n",
       "    <tr>\n",
       "      <th>4</th>\n",
       "      <td>1.0</td>\n",
       "      <td>0.0</td>\n",
       "      <td>0</td>\n",
       "      <td>0</td>\n",
       "      <td>0</td>\n",
       "      <td>406500</td>\n",
       "      <td>3.99</td>\n",
       "      <td>2596.45</td>\n",
       "      <td>360.0</td>\n",
       "      <td>0.0</td>\n",
       "      <td>...</td>\n",
       "      <td>0.0</td>\n",
       "      <td>0.0</td>\n",
       "      <td>1.0</td>\n",
       "      <td>0.0</td>\n",
       "      <td>0.0</td>\n",
       "      <td>0.0</td>\n",
       "      <td>1</td>\n",
       "      <td>0</td>\n",
       "      <td>0</td>\n",
       "      <td>0</td>\n",
       "    </tr>\n",
       "  </tbody>\n",
       "</table>\n",
       "<p>5 rows × 51 columns</p>\n",
       "</div>"
      ],
      "text/plain": [
       "   loan_limit  approv_in_adv  Credit_Worthiness  open_credit  \\\n",
       "0         1.0            0.0                  0            0   \n",
       "1         1.0            0.0                  0            0   \n",
       "2         1.0            0.0                  0            0   \n",
       "3         1.0            0.0                  0            0   \n",
       "4         1.0            0.0                  0            0   \n",
       "\n",
       "   business_or_commercial  loan_amount  rate_of_interest  Upfront_charges  \\\n",
       "0                       1       206500              3.99          2596.45   \n",
       "1                       0       466500              3.99          2596.45   \n",
       "2                       1       656500              3.99          2596.45   \n",
       "3                       0       106500              3.99          2596.45   \n",
       "4                       0       406500              3.99          2596.45   \n",
       "\n",
       "    term  Neg_ammortization  ...  age_25-34  age_35-44  age_45-54  age_55-64  \\\n",
       "0  360.0                0.0  ...        0.0        0.0        0.0        1.0   \n",
       "1  360.0                0.0  ...        0.0        0.0        1.0        0.0   \n",
       "2  360.0                0.0  ...        0.0        1.0        0.0        0.0   \n",
       "3  240.0                0.0  ...        0.0        0.0        1.0        0.0   \n",
       "4  360.0                0.0  ...        0.0        0.0        1.0        0.0   \n",
       "\n",
       "   age_65-74  age_>74  Region_North  Region_Central  Region_South  \\\n",
       "0        0.0      0.0             1               0             0   \n",
       "1        0.0      0.0             1               0             0   \n",
       "2        0.0      0.0             1               0             0   \n",
       "3        0.0      0.0             0               1             0   \n",
       "4        0.0      0.0             1               0             0   \n",
       "\n",
       "   Region_North-East  \n",
       "0                  0  \n",
       "1                  0  \n",
       "2                  0  \n",
       "3                  0  \n",
       "4                  0  \n",
       "\n",
       "[5 rows x 51 columns]"
      ]
     },
     "execution_count": 26,
     "metadata": {},
     "output_type": "execute_result"
    }
   ],
   "source": [
    "data_normalized.head()"
   ]
  },
  {
   "cell_type": "code",
   "execution_count": 27,
   "id": "31ccbe12",
   "metadata": {},
   "outputs": [
    {
     "name": "stdout",
     "output_type": "stream",
     "text": [
      "(148670, 51)\n",
      "(148670, 32)\n"
     ]
    }
   ],
   "source": [
    "print(data_normalized.shape)\n",
    "print(data.shape)"
   ]
  },
  {
   "cell_type": "code",
   "execution_count": 28,
   "id": "c4418a9c",
   "metadata": {},
   "outputs": [
    {
     "data": {
      "text/plain": [
       "Index(['year', 'loan_limit', 'Gender', 'approv_in_adv', 'loan_type',\n",
       "       'loan_purpose', 'Credit_Worthiness', 'open_credit',\n",
       "       'business_or_commercial', 'loan_amount', 'rate_of_interest',\n",
       "       'Interest_rate_spread', 'Upfront_charges', 'term', 'Neg_ammortization',\n",
       "       'interest_only', 'lump_sum_payment', 'property_value',\n",
       "       'construction_type', 'occupancy_type', 'Secured_by', 'total_units',\n",
       "       'income', 'credit_type', 'Credit_Score', 'co_applicant_credit_type',\n",
       "       'age', 'submission_of_application', 'LTV', 'Region', 'Security_Type',\n",
       "       'dtir1'],\n",
       "      dtype='object')"
      ]
     },
     "execution_count": 28,
     "metadata": {},
     "output_type": "execute_result"
    }
   ],
   "source": [
    "data.columns"
   ]
  },
  {
   "cell_type": "code",
   "execution_count": 29,
   "id": "8bde31ec",
   "metadata": {},
   "outputs": [
    {
     "name": "stdout",
     "output_type": "stream",
     "text": [
      "year:  1\n",
      "loan_limit:  3\n",
      "Gender:  4\n",
      "approv_in_adv:  3\n",
      "loan_type:  3\n",
      "loan_purpose:  5\n",
      "Credit_Worthiness:  2\n",
      "open_credit:  2\n",
      "business_or_commercial:  2\n",
      "rate_of_interest:  132\n",
      "loan_amount:  211\n",
      "rate_of_interest:  132\n",
      "Interest_rate_spread:  22517\n",
      "Upfront_charges:  58272\n",
      "term:  27\n",
      "Neg_ammortization:  3\n",
      "interest_only:  2\n",
      "lump_sum_payment:  2\n",
      "property_value:  386\n",
      "construction_type:  2\n",
      "occupancy_type:  3\n",
      "Secured_by:  2\n",
      "total_units:  4\n",
      "income:  1002\n",
      "credit_type:  4\n",
      "Credit_Score:  401\n",
      "co_applicant_credit_type:  2\n",
      "age:  8\n",
      "submission_of_application:  3\n",
      "LTV:  8485\n",
      "Region:  4\n",
      "Security_Type:  2\n",
      "dtir1:  58\n"
     ]
    }
   ],
   "source": [
    "print(\"year: \", len(data['year'].unique()))\n",
    "print(\"loan_limit: \", len(data['loan_limit'].unique()))\n",
    "print(\"Gender: \", len(data['Gender'].unique()))\n",
    "print(\"approv_in_adv: \", len(data['approv_in_adv'].unique()))\n",
    "print(\"loan_type: \", len(data['loan_type'].unique()))\n",
    "print(\"loan_purpose: \", len(data['loan_purpose'].unique()))\n",
    "print(\"Credit_Worthiness: \", len(data['Credit_Worthiness'].unique()))\n",
    "print(\"open_credit: \", len(data['open_credit'].unique()))\n",
    "print(\"business_or_commercial: \", len(data['business_or_commercial'].unique()))\n",
    "print(\"rate_of_interest: \", len(data['rate_of_interest'].unique()))\n",
    "print(\"loan_amount: \", len(data['loan_amount'].unique()))\n",
    "print(\"rate_of_interest: \", len(data['rate_of_interest'].unique()))\n",
    "print(\"Interest_rate_spread: \", len(data['Interest_rate_spread'].unique()))\n",
    "print(\"Upfront_charges: \", len(data['Upfront_charges'].unique()))\n",
    "print(\"term: \", len(data['term'].unique()))\n",
    "print(\"Neg_ammortization: \", len(data['Neg_ammortization'].unique()))\n",
    "print(\"interest_only: \", len(data['interest_only'].unique()))\n",
    "print(\"lump_sum_payment: \", len(data['lump_sum_payment'].unique()))\n",
    "print(\"property_value: \", len(data['property_value'].unique()))\n",
    "print(\"construction_type: \", len(data['construction_type'].unique()))\n",
    "print(\"occupancy_type: \", len(data['occupancy_type'].unique()))\n",
    "print(\"Secured_by: \", len(data['Secured_by'].unique()))\n",
    "print(\"total_units: \", len(data['total_units'].unique()))\n",
    "print(\"income: \", len(data['income'].unique()))\n",
    "print(\"credit_type: \", len(data['credit_type'].unique()))\n",
    "print(\"Credit_Score: \", len(data['Credit_Score'].unique()))\n",
    "print(\"co_applicant_credit_type: \", len(data['co_applicant_credit_type'].unique()))\n",
    "print(\"age: \", len(data['age'].unique()))\n",
    "print(\"submission_of_application: \", len(data['submission_of_application'].unique()))\n",
    "print(\"LTV: \", len(data['LTV'].unique()))\n",
    "print(\"Region: \", len(data['Region'].unique()))\n",
    "print(\"Security_Type: \", len(data['Security_Type'].unique()))\n",
    "print(\"dtir1: \", len(data['dtir1'].unique()))"
   ]
  },
  {
   "cell_type": "code",
   "execution_count": 140,
   "id": "28ae6bb4",
   "metadata": {},
   "outputs": [
    {
     "data": {
      "text/plain": [
       "0         1\n",
       "1         1\n",
       "2         1\n",
       "3         1\n",
       "4         1\n",
       "         ..\n",
       "148665    0\n",
       "148666    0\n",
       "148667    1\n",
       "148668    0\n",
       "148669    1\n",
       "Name: Status, Length: 148670, dtype: int64"
      ]
     },
     "execution_count": 140,
     "metadata": {},
     "output_type": "execute_result"
    }
   ],
   "source": [
    "target"
   ]
  },
  {
   "cell_type": "code",
   "execution_count": 32,
   "id": "255a1a0e",
   "metadata": {},
   "outputs": [],
   "source": [
    "data.drop(['Interest_rate_spread', 'Upfront_charges'], axis=1, inplace=True)"
   ]
  },
  {
   "cell_type": "code",
   "execution_count": 33,
   "id": "c392f309",
   "metadata": {},
   "outputs": [
    {
     "data": {
      "text/plain": [
       "(148670, 30)"
      ]
     },
     "execution_count": 33,
     "metadata": {},
     "output_type": "execute_result"
    }
   ],
   "source": [
    "data.shape"
   ]
  },
  {
   "cell_type": "code",
   "execution_count": 36,
   "id": "d6a46a80",
   "metadata": {},
   "outputs": [],
   "source": [
    "data_normalized.drop(['Upfront_charges'], axis=1, inplace=True)"
   ]
  },
  {
   "cell_type": "code",
   "execution_count": 37,
   "id": "c63a2251",
   "metadata": {},
   "outputs": [
    {
     "data": {
      "text/plain": [
       "Index(['loan_limit', 'approv_in_adv', 'Credit_Worthiness', 'open_credit',\n",
       "       'business_or_commercial', 'loan_amount', 'rate_of_interest', 'term',\n",
       "       'Neg_ammortization', 'interest_only', 'lump_sum_payment',\n",
       "       'property_value', 'construction_type', 'Secured_by', 'total_units',\n",
       "       'income', 'Credit_Score', 'co_applicant_credit_type',\n",
       "       'submission_of_application', 'LTV', 'Security_Type', 'dtir1',\n",
       "       'GenderMale', 'GenderFemale', 'GenderJoint', 'loan_type1', 'loan_type2',\n",
       "       'loan_type3', 'loan_purpose_p1', 'loan_purpose_p2', 'loan_purpose_p3',\n",
       "       'loan_purpose_p4', 'occupancy_type_pr', 'occupancy_type_ir',\n",
       "       'occupancy_type_sr', 'credit_type_equi', 'credit_type_crif',\n",
       "       'credit_type_cib', 'credit_type_exp', 'age_<25', 'age_25-34',\n",
       "       'age_35-44', 'age_45-54', 'age_55-64', 'age_65-74', 'age_>74',\n",
       "       'Region_North', 'Region_Central', 'Region_South', 'Region_North-East'],\n",
       "      dtype='object')"
      ]
     },
     "execution_count": 37,
     "metadata": {},
     "output_type": "execute_result"
    }
   ],
   "source": [
    "data_normalized.columns"
   ]
  },
  {
   "cell_type": "code",
   "execution_count": 41,
   "id": "f999eda8",
   "metadata": {},
   "outputs": [],
   "source": [
    "X = data_normalized\n",
    "cols = X.columns"
   ]
  },
  {
   "cell_type": "code",
   "execution_count": 42,
   "id": "48c5f8a6",
   "metadata": {},
   "outputs": [],
   "source": [
    "from sklearn.preprocessing import MinMaxScaler\n",
    "X = data_normalized\n",
    "ms = MinMaxScaler()\n",
    "\n",
    "X = ms.fit_transform(X)"
   ]
  },
  {
   "cell_type": "code",
   "execution_count": 43,
   "id": "80cdaa26",
   "metadata": {},
   "outputs": [],
   "source": [
    "X = pd.DataFrame(X, columns=[cols])"
   ]
  },
  {
   "cell_type": "code",
   "execution_count": 44,
   "id": "777111a8",
   "metadata": {},
   "outputs": [
    {
     "data": {
      "text/html": [
       "<div>\n",
       "<style scoped>\n",
       "    .dataframe tbody tr th:only-of-type {\n",
       "        vertical-align: middle;\n",
       "    }\n",
       "\n",
       "    .dataframe tbody tr th {\n",
       "        vertical-align: top;\n",
       "    }\n",
       "\n",
       "    .dataframe thead tr th {\n",
       "        text-align: left;\n",
       "    }\n",
       "</style>\n",
       "<table border=\"1\" class=\"dataframe\">\n",
       "  <thead>\n",
       "    <tr>\n",
       "      <th></th>\n",
       "      <th>loan_limit</th>\n",
       "      <th>approv_in_adv</th>\n",
       "      <th>Credit_Worthiness</th>\n",
       "      <th>open_credit</th>\n",
       "      <th>business_or_commercial</th>\n",
       "      <th>loan_amount</th>\n",
       "      <th>rate_of_interest</th>\n",
       "      <th>term</th>\n",
       "      <th>Neg_ammortization</th>\n",
       "      <th>interest_only</th>\n",
       "      <th>...</th>\n",
       "      <th>age_25-34</th>\n",
       "      <th>age_35-44</th>\n",
       "      <th>age_45-54</th>\n",
       "      <th>age_55-64</th>\n",
       "      <th>age_65-74</th>\n",
       "      <th>age_&gt;74</th>\n",
       "      <th>Region_North</th>\n",
       "      <th>Region_Central</th>\n",
       "      <th>Region_South</th>\n",
       "      <th>Region_North-East</th>\n",
       "    </tr>\n",
       "  </thead>\n",
       "  <tbody>\n",
       "    <tr>\n",
       "      <th>0</th>\n",
       "      <td>1.0</td>\n",
       "      <td>0.0</td>\n",
       "      <td>0.0</td>\n",
       "      <td>0.0</td>\n",
       "      <td>1.0</td>\n",
       "      <td>0.053371</td>\n",
       "      <td>0.49875</td>\n",
       "      <td>1.000000</td>\n",
       "      <td>0.0</td>\n",
       "      <td>0.0</td>\n",
       "      <td>...</td>\n",
       "      <td>0.0</td>\n",
       "      <td>0.0</td>\n",
       "      <td>0.0</td>\n",
       "      <td>1.0</td>\n",
       "      <td>0.0</td>\n",
       "      <td>0.0</td>\n",
       "      <td>1.0</td>\n",
       "      <td>0.0</td>\n",
       "      <td>0.0</td>\n",
       "      <td>0.0</td>\n",
       "    </tr>\n",
       "    <tr>\n",
       "      <th>1</th>\n",
       "      <td>1.0</td>\n",
       "      <td>0.0</td>\n",
       "      <td>0.0</td>\n",
       "      <td>0.0</td>\n",
       "      <td>0.0</td>\n",
       "      <td>0.126404</td>\n",
       "      <td>0.49875</td>\n",
       "      <td>1.000000</td>\n",
       "      <td>0.0</td>\n",
       "      <td>0.0</td>\n",
       "      <td>...</td>\n",
       "      <td>0.0</td>\n",
       "      <td>0.0</td>\n",
       "      <td>1.0</td>\n",
       "      <td>0.0</td>\n",
       "      <td>0.0</td>\n",
       "      <td>0.0</td>\n",
       "      <td>1.0</td>\n",
       "      <td>0.0</td>\n",
       "      <td>0.0</td>\n",
       "      <td>0.0</td>\n",
       "    </tr>\n",
       "    <tr>\n",
       "      <th>2</th>\n",
       "      <td>1.0</td>\n",
       "      <td>0.0</td>\n",
       "      <td>0.0</td>\n",
       "      <td>0.0</td>\n",
       "      <td>1.0</td>\n",
       "      <td>0.179775</td>\n",
       "      <td>0.49875</td>\n",
       "      <td>1.000000</td>\n",
       "      <td>0.0</td>\n",
       "      <td>0.0</td>\n",
       "      <td>...</td>\n",
       "      <td>0.0</td>\n",
       "      <td>1.0</td>\n",
       "      <td>0.0</td>\n",
       "      <td>0.0</td>\n",
       "      <td>0.0</td>\n",
       "      <td>0.0</td>\n",
       "      <td>1.0</td>\n",
       "      <td>0.0</td>\n",
       "      <td>0.0</td>\n",
       "      <td>0.0</td>\n",
       "    </tr>\n",
       "    <tr>\n",
       "      <th>3</th>\n",
       "      <td>1.0</td>\n",
       "      <td>0.0</td>\n",
       "      <td>0.0</td>\n",
       "      <td>0.0</td>\n",
       "      <td>0.0</td>\n",
       "      <td>0.025281</td>\n",
       "      <td>0.49875</td>\n",
       "      <td>0.545455</td>\n",
       "      <td>0.0</td>\n",
       "      <td>0.0</td>\n",
       "      <td>...</td>\n",
       "      <td>0.0</td>\n",
       "      <td>0.0</td>\n",
       "      <td>1.0</td>\n",
       "      <td>0.0</td>\n",
       "      <td>0.0</td>\n",
       "      <td>0.0</td>\n",
       "      <td>0.0</td>\n",
       "      <td>1.0</td>\n",
       "      <td>0.0</td>\n",
       "      <td>0.0</td>\n",
       "    </tr>\n",
       "    <tr>\n",
       "      <th>4</th>\n",
       "      <td>1.0</td>\n",
       "      <td>0.0</td>\n",
       "      <td>0.0</td>\n",
       "      <td>0.0</td>\n",
       "      <td>0.0</td>\n",
       "      <td>0.109551</td>\n",
       "      <td>0.49875</td>\n",
       "      <td>1.000000</td>\n",
       "      <td>0.0</td>\n",
       "      <td>0.0</td>\n",
       "      <td>...</td>\n",
       "      <td>0.0</td>\n",
       "      <td>0.0</td>\n",
       "      <td>1.0</td>\n",
       "      <td>0.0</td>\n",
       "      <td>0.0</td>\n",
       "      <td>0.0</td>\n",
       "      <td>1.0</td>\n",
       "      <td>0.0</td>\n",
       "      <td>0.0</td>\n",
       "      <td>0.0</td>\n",
       "    </tr>\n",
       "  </tbody>\n",
       "</table>\n",
       "<p>5 rows × 50 columns</p>\n",
       "</div>"
      ],
      "text/plain": [
       "  loan_limit approv_in_adv Credit_Worthiness open_credit  \\\n",
       "0        1.0           0.0               0.0         0.0   \n",
       "1        1.0           0.0               0.0         0.0   \n",
       "2        1.0           0.0               0.0         0.0   \n",
       "3        1.0           0.0               0.0         0.0   \n",
       "4        1.0           0.0               0.0         0.0   \n",
       "\n",
       "  business_or_commercial loan_amount rate_of_interest      term  \\\n",
       "0                    1.0    0.053371          0.49875  1.000000   \n",
       "1                    0.0    0.126404          0.49875  1.000000   \n",
       "2                    1.0    0.179775          0.49875  1.000000   \n",
       "3                    0.0    0.025281          0.49875  0.545455   \n",
       "4                    0.0    0.109551          0.49875  1.000000   \n",
       "\n",
       "  Neg_ammortization interest_only  ... age_25-34 age_35-44 age_45-54  \\\n",
       "0               0.0           0.0  ...       0.0       0.0       0.0   \n",
       "1               0.0           0.0  ...       0.0       0.0       1.0   \n",
       "2               0.0           0.0  ...       0.0       1.0       0.0   \n",
       "3               0.0           0.0  ...       0.0       0.0       1.0   \n",
       "4               0.0           0.0  ...       0.0       0.0       1.0   \n",
       "\n",
       "  age_55-64 age_65-74 age_>74 Region_North Region_Central Region_South  \\\n",
       "0       1.0       0.0     0.0          1.0            0.0          0.0   \n",
       "1       0.0       0.0     0.0          1.0            0.0          0.0   \n",
       "2       0.0       0.0     0.0          1.0            0.0          0.0   \n",
       "3       0.0       0.0     0.0          0.0            1.0          0.0   \n",
       "4       0.0       0.0     0.0          1.0            0.0          0.0   \n",
       "\n",
       "  Region_North-East  \n",
       "0               0.0  \n",
       "1               0.0  \n",
       "2               0.0  \n",
       "3               0.0  \n",
       "4               0.0  \n",
       "\n",
       "[5 rows x 50 columns]"
      ]
     },
     "execution_count": 44,
     "metadata": {},
     "output_type": "execute_result"
    }
   ],
   "source": [
    "X.head()"
   ]
  },
  {
   "cell_type": "markdown",
   "id": "bbe58b43",
   "metadata": {},
   "source": [
    "## KMeans"
   ]
  },
  {
   "cell_type": "code",
   "execution_count": 147,
   "id": "1aba5d79",
   "metadata": {},
   "outputs": [],
   "source": [
    "from sklearn.cluster import KMeans"
   ]
  },
  {
   "cell_type": "code",
   "execution_count": 49,
   "id": "2fc4f8d2",
   "metadata": {},
   "outputs": [],
   "source": [
    "Y = target"
   ]
  },
  {
   "cell_type": "code",
   "execution_count": 45,
   "id": "acd36637",
   "metadata": {},
   "outputs": [
    {
     "name": "stderr",
     "output_type": "stream",
     "text": [
      "C:\\Users\\saofagar\\Anaconda3\\lib\\site-packages\\sklearn\\utils\\validation.py:1688: FutureWarning: Feature names only support names that are all strings. Got feature names with dtypes: ['tuple']. An error will be raised in 1.2.\n",
      "  warnings.warn(\n"
     ]
    },
    {
     "data": {
      "text/plain": [
       "KMeans(n_clusters=2, random_state=0)"
      ]
     },
     "execution_count": 45,
     "metadata": {},
     "output_type": "execute_result"
    }
   ],
   "source": [
    "kmeans = KMeans(n_clusters=2, random_state=0) \n",
    "\n",
    "kmeans.fit(X)"
   ]
  },
  {
   "cell_type": "code",
   "execution_count": 46,
   "id": "9fc8e924",
   "metadata": {},
   "outputs": [
    {
     "data": {
      "text/plain": [
       "array([[9.11099558e-01, 1.58387882e-01, 4.33750030e-02, 3.87551102e-03,\n",
       "        1.46052414e-01, 8.79124800e-02, 5.04785695e-01, 9.13988513e-01,\n",
       "        1.02145710e-01, 4.81012359e-02, 2.11144457e-02, 2.86765044e-02,\n",
       "        2.83573977e-04, 9.99716426e-01, 7.03421005e-03, 1.18452445e-02,\n",
       "        4.98742586e-01, 5.01276083e-01, 5.87659806e-01, 9.29631982e-03,\n",
       "        9.99716426e-01, 5.87055945e-01, 3.73715055e-01, 2.46673914e-01,\n",
       "        3.71470095e-01, 7.51683720e-01, 1.46052414e-01, 1.02263866e-01,\n",
       "        2.61136186e-01, 2.14452820e-02, 3.63730888e-01, 3.52612425e-01,\n",
       "        9.34896141e-01, 4.19453175e-02, 2.31585415e-02, 9.67696198e-02,\n",
       "        2.98922419e-01, 3.28555900e-01, 2.75752062e-01, 1.05513151e-02,\n",
       "        1.32641728e-01, 2.15008153e-01, 2.29954864e-01, 2.19545336e-01,\n",
       "        1.43098518e-01, 4.92000851e-02, 8.82883947e-01, 1.02653780e-01,\n",
       "        3.88578059e-14, 1.44622728e-02],\n",
       "       [9.09457180e-01, 1.52039478e-01, 4.14610532e-02, 3.56049722e-03,\n",
       "        1.31191830e-01, 8.89880850e-02, 5.02926371e-01, 8.95085175e-01,\n",
       "        1.01255544e-01, 4.74576801e-02, 2.49390968e-02, 2.98890681e-02,\n",
       "        1.40545943e-04, 9.99859454e-01, 7.48016741e-03, 1.19665331e-02,\n",
       "        5.00437801e-01, 4.97423324e-01, 7.19563995e-01, 9.06766722e-03,\n",
       "        9.99859454e-01, 5.89683370e-01, 1.67358986e-01, 9.97720032e-02,\n",
       "        1.55537510e-01, 7.73861578e-01, 1.31191830e-01, 9.49465925e-02,\n",
       "        1.94078331e-01, 2.27840590e-02, 3.92747829e-01, 3.89718283e-01,\n",
       "        9.22559185e-01, 5.91854582e-02, 1.82553564e-02, 1.11000062e-01,\n",
       "        2.90492848e-01, 3.17711912e-01, 2.80795178e-01, 6.93359985e-03,\n",
       "        1.23617965e-01, 2.28324692e-01, 2.38272222e-01, 2.17893060e-01,\n",
       "        1.34814792e-01, 4.70204260e-02, 2.64233080e-14, 1.40545943e-04,\n",
       "        9.99687676e-01, 1.71778375e-04]])"
      ]
     },
     "execution_count": 46,
     "metadata": {},
     "output_type": "execute_result"
    }
   ],
   "source": [
    "kmeans.cluster_centers_"
   ]
  },
  {
   "cell_type": "code",
   "execution_count": 47,
   "id": "129960d0",
   "metadata": {},
   "outputs": [
    {
     "data": {
      "text/plain": [
       "676666.3999112381"
      ]
     },
     "execution_count": 47,
     "metadata": {},
     "output_type": "execute_result"
    }
   ],
   "source": [
    "kmeans.inertia_"
   ]
  },
  {
   "cell_type": "code",
   "execution_count": 50,
   "id": "c583640a",
   "metadata": {},
   "outputs": [
    {
     "name": "stdout",
     "output_type": "stream",
     "text": [
      "Result: 82101 out of 148670 samples were correctly labeled.\n"
     ]
    }
   ],
   "source": [
    "labels = kmeans.labels_\n",
    "\n",
    "# check how many of the samples were correctly labeled\n",
    "correct_labels = sum(Y == labels)\n",
    "\n",
    "print(\"Result: %d out of %d samples were correctly labeled.\" % (correct_labels, Y.size))"
   ]
  },
  {
   "cell_type": "code",
   "execution_count": 52,
   "id": "a9ea00a3",
   "metadata": {},
   "outputs": [
    {
     "name": "stdout",
     "output_type": "stream",
     "text": [
      "Accuracy score: 0.55\n"
     ]
    }
   ],
   "source": [
    "print('Accuracy score: {0:0.2f}'. format(correct_labels/float(Y.size)))"
   ]
  },
  {
   "cell_type": "code",
   "execution_count": 55,
   "id": "7848cc27",
   "metadata": {},
   "outputs": [
    {
     "data": {
      "image/png": "[encoded data removed]",
      "text/plain": [
       "<Figure size 640x480 with 1 Axes>"
      ]
     },
     "metadata": {},
     "output_type": "display_data"
    }
   ],
   "source": [
    "from sklearn.cluster import KMeans\n",
    "cs = []\n",
    "for i in range(1, 11):\n",
    "    kmeans = KMeans(n_clusters = i, init = 'k-means++', max_iter = 300, n_init = 10, random_state = 0)\n",
    "    kmeans.fit(X)\n",
    "    cs.append(kmeans.inertia_)\n",
    "plt.plot(range(1, 11), cs)\n",
    "plt.title('The Elbow Method')\n",
    "plt.xlabel('Number of clusters')\n",
    "plt.ylabel('CS')\n",
    "plt.show()"
   ]
  },
  {
   "cell_type": "code",
   "execution_count": 61,
   "id": "906bd945",
   "metadata": {},
   "outputs": [
    {
     "name": "stdout",
     "output_type": "stream",
     "text": [
      "Result: 66569 out of 148670 samples were correctly labeled.\n",
      "Accuracy score: 0.45\n"
     ]
    }
   ],
   "source": [
    "from sklearn.cluster import KMeans\n",
    "\n",
    "kmeans = KMeans(n_clusters=2, random_state=42)\n",
    "\n",
    "kmeans.fit(X)\n",
    "\n",
    "labels = kmeans.labels_\n",
    "\n",
    "# check how many of the samples were correctly labeled\n",
    "\n",
    "correct_labels = sum(Y == labels)\n",
    "\n",
    "print(\"Result: %d out of %d samples were correctly labeled.\" % (correct_labels, Y.size))\n",
    "\n",
    "print('Accuracy score: {0:0.2f}'. format(correct_labels/float(Y.size)))"
   ]
  },
  {
   "cell_type": "code",
   "execution_count": 68,
   "id": "f61e1441",
   "metadata": {},
   "outputs": [
    {
     "name": "stdout",
     "output_type": "stream",
     "text": [
      "Result: 47324 out of 148670 samples were correctly labeled.\n",
      "Accuracy score: 0.32\n"
     ]
    }
   ],
   "source": [
    "from sklearn.cluster import KMeans\n",
    "\n",
    "kmeans = KMeans(n_clusters=4, random_state=42)\n",
    "\n",
    "kmeans.fit(X)\n",
    "\n",
    "labels = kmeans.labels_\n",
    "\n",
    "# check how many of the samples were correctly labeled\n",
    "\n",
    "correct_labels = sum(Y == labels)\n",
    "\n",
    "print(\"Result: %d out of %d samples were correctly labeled.\" % (correct_labels, Y.size))\n",
    "\n",
    "print('Accuracy score: {0:0.2f}'. format(correct_labels/float(Y.size)))"
   ]
  },
  {
   "cell_type": "markdown",
   "id": "6d2bac28",
   "metadata": {},
   "source": [
    "## Testando com o dataset original"
   ]
  },
  {
   "cell_type": "code",
   "execution_count": 144,
   "id": "51c88fb2",
   "metadata": {},
   "outputs": [],
   "source": [
    "data = pd.read_csv('https://storage.googleapis.com/data-ia-final/data.csv')\n",
    "target = data['Status']\n",
    "data.drop(['ID', 'year'], axis=1, inplace=True)"
   ]
  },
  {
   "cell_type": "code",
   "execution_count": 145,
   "id": "a010b9ae",
   "metadata": {},
   "outputs": [
    {
     "name": "stdout",
     "output_type": "stream",
     "text": [
      "0         1\n",
      "1         1\n",
      "2         1\n",
      "3         1\n",
      "4         1\n",
      "         ..\n",
      "148665    0\n",
      "148666    0\n",
      "148667    1\n",
      "148668    0\n",
      "148669    1\n",
      "Name: Status, Length: 148670, dtype: int64\n"
     ]
    }
   ],
   "source": [
    "X_original = data\n",
    "X_original.head()\n",
    "print(target)"
   ]
  },
  {
   "cell_type": "code",
   "execution_count": 146,
   "id": "c3321039",
   "metadata": {},
   "outputs": [
    {
     "data": {
      "text/plain": [
       "0         1\n",
       "1         1\n",
       "2         1\n",
       "3         1\n",
       "4         1\n",
       "         ..\n",
       "148665    0\n",
       "148666    0\n",
       "148667    1\n",
       "148668    0\n",
       "148669    1\n",
       "Name: Status, Length: 148670, dtype: int64"
      ]
     },
     "execution_count": 146,
     "metadata": {},
     "output_type": "execute_result"
    }
   ],
   "source": [
    "X_original['Status']"
   ]
  },
  {
   "cell_type": "code",
   "execution_count": 148,
   "id": "a43f3be9",
   "metadata": {},
   "outputs": [
    {
     "name": "stdout",
     "output_type": "stream",
     "text": [
      "0         1\n",
      "1         1\n",
      "2         1\n",
      "3         1\n",
      "4         1\n",
      "         ..\n",
      "148665    0\n",
      "148666    0\n",
      "148667    1\n",
      "148668    0\n",
      "148669    1\n",
      "Name: Status, Length: 148670, dtype: int64\n"
     ]
    }
   ],
   "source": [
    "Y = X_original['Status']\n",
    "print(Y)"
   ]
  },
  {
   "cell_type": "code",
   "execution_count": 155,
   "id": "a5bc080b",
   "metadata": {},
   "outputs": [
    {
     "data": {
      "text/plain": [
       "loan_limit                    3344\n",
       "Gender                           0\n",
       "approv_in_adv                  908\n",
       "loan_type                        0\n",
       "loan_purpose                   134\n",
       "Credit_Worthiness                0\n",
       "open_credit                      0\n",
       "business_or_commercial           0\n",
       "loan_amount                      0\n",
       "rate_of_interest             36439\n",
       "Interest_rate_spread         36639\n",
       "Upfront_charges              39642\n",
       "term                            41\n",
       "Neg_ammortization              121\n",
       "interest_only                    0\n",
       "lump_sum_payment                 0\n",
       "property_value               15098\n",
       "construction_type                0\n",
       "occupancy_type                   0\n",
       "Secured_by                       0\n",
       "total_units                      0\n",
       "income                        9150\n",
       "credit_type                      0\n",
       "Credit_Score                     0\n",
       "co_applicant_credit_type         0\n",
       "age                            200\n",
       "submission_of_application      200\n",
       "LTV                          15098\n",
       "Region                           0\n",
       "Security_Type                    0\n",
       "Status                           0\n",
       "dtir1                        24121\n",
       "dtype: int64"
      ]
     },
     "execution_count": 155,
     "metadata": {},
     "output_type": "execute_result"
    }
   ],
   "source": [
    "X_original.isnull().sum()"
   ]
  },
  {
   "cell_type": "code",
   "execution_count": 156,
   "id": "bcd36090",
   "metadata": {},
   "outputs": [
    {
     "data": {
      "text/plain": [
       "(148670, 32)"
      ]
     },
     "execution_count": 156,
     "metadata": {},
     "output_type": "execute_result"
    }
   ],
   "source": [
    "X_original.shape"
   ]
  },
  {
   "cell_type": "code",
   "execution_count": 157,
   "id": "ac2c64ab",
   "metadata": {},
   "outputs": [],
   "source": [
    "X_original = X_original[X_original['loan_limit'].notna()]\n",
    "X_original = X_original[X_original['approv_in_adv'].notna()]\n",
    "X_original = X_original[X_original['loan_purpose'].notna()]\n",
    "X_original = X_original[X_original['term'].notna()]\n",
    "X_original = X_original[X_original['Neg_ammortization'].notna()]\n",
    "X_original = X_original[X_original['age'].notna()]\n",
    "X_original = X_original[X_original['submission_of_application'].notna()]"
   ]
  },
  {
   "cell_type": "code",
   "execution_count": 158,
   "id": "cff4aac7",
   "metadata": {},
   "outputs": [
    {
     "data": {
      "text/plain": [
       "(143942, 32)"
      ]
     },
     "execution_count": 158,
     "metadata": {},
     "output_type": "execute_result"
    }
   ],
   "source": [
    "X_original.shape"
   ]
  },
  {
   "cell_type": "code",
   "execution_count": 159,
   "id": "f970d84d",
   "metadata": {},
   "outputs": [],
   "source": [
    "X_original['rate_of_interest'].fillna(value=X_original['rate_of_interest'].mean(), inplace=True)\n",
    "X_original['Interest_rate_spread'].fillna(value=X_original['rate_of_interest'].mean(), inplace=True)\n",
    "X_original['Upfront_charges'].fillna(value=X_original['rate_of_interest'].mean(), inplace=True)\n",
    "X_original['property_value'].fillna(value=X_original['rate_of_interest'].mean(), inplace=True)\n",
    "X_original['income'].fillna(value=X_original['rate_of_interest'].mean(), inplace=True)\n",
    "X_original['LTV'].fillna(value=X_original['rate_of_interest'].mean(), inplace=True)\n",
    "X_original['dtir1'].fillna(value=X_original['rate_of_interest'].mean(), inplace=True)"
   ]
  },
  {
   "cell_type": "code",
   "execution_count": 160,
   "id": "8d79f03c",
   "metadata": {},
   "outputs": [
    {
     "data": {
      "text/plain": [
       "Index(['loan_limit', 'Gender', 'approv_in_adv', 'loan_type', 'loan_purpose',\n",
       "       'Credit_Worthiness', 'open_credit', 'business_or_commercial',\n",
       "       'loan_amount', 'rate_of_interest', 'Interest_rate_spread',\n",
       "       'Upfront_charges', 'term', 'Neg_ammortization', 'interest_only',\n",
       "       'lump_sum_payment', 'property_value', 'construction_type',\n",
       "       'occupancy_type', 'Secured_by', 'total_units', 'income', 'credit_type',\n",
       "       'Credit_Score', 'co_applicant_credit_type', 'age',\n",
       "       'submission_of_application', 'LTV', 'Region', 'Security_Type', 'Status',\n",
       "       'dtir1'],\n",
       "      dtype='object')"
      ]
     },
     "execution_count": 160,
     "metadata": {},
     "output_type": "execute_result"
    }
   ],
   "source": [
    "X_original.head()\n",
    "X_original.columns"
   ]
  },
  {
   "cell_type": "code",
   "execution_count": 161,
   "id": "e9ce822d",
   "metadata": {},
   "outputs": [
    {
     "name": "stdout",
     "output_type": "stream",
     "text": [
      "loan_limit:  2\n",
      "Gender:  4\n",
      "approv_in_adv:  2\n",
      "loan_type:  3\n",
      "loan_purpose:  4\n",
      "Credit_Worthiness:  2\n",
      "open_credit:  2\n",
      "business_or_commercial:  2\n",
      "rate_of_interest:  129\n",
      "loan_amount:  210\n",
      "rate_of_interest:  129\n",
      "Interest_rate_spread:  22418\n",
      "Upfront_charges:  56723\n",
      "term:  25\n",
      "Neg_ammortization:  2\n",
      "interest_only:  2\n",
      "lump_sum_payment:  2\n",
      "property_value:  383\n",
      "construction_type:  2\n",
      "occupancy_type:  3\n",
      "Secured_by:  2\n",
      "total_units:  4\n",
      "income:  990\n",
      "credit_type:  4\n",
      "Credit_Score:  401\n",
      "co_applicant_credit_type:  2\n",
      "age:  7\n",
      "submission_of_application:  2\n",
      "LTV:  8423\n",
      "Region:  4\n",
      "Security_Type:  2\n",
      "dtir1:  58\n"
     ]
    }
   ],
   "source": [
    "print(\"loan_limit: \", len(X_original['loan_limit'].unique()))\n",
    "print(\"Gender: \", len(X_original['Gender'].unique()))\n",
    "print(\"approv_in_adv: \", len(X_original['approv_in_adv'].unique()))\n",
    "print(\"loan_type: \", len(X_original['loan_type'].unique()))\n",
    "print(\"loan_purpose: \", len(X_original['loan_purpose'].unique()))\n",
    "print(\"Credit_Worthiness: \", len(X_original['Credit_Worthiness'].unique()))\n",
    "print(\"open_credit: \", len(X_original['open_credit'].unique()))\n",
    "print(\"business_or_commercial: \", len(X_original['business_or_commercial'].unique()))\n",
    "print(\"rate_of_interest: \", len(X_original['rate_of_interest'].unique()))\n",
    "print(\"loan_amount: \", len(X_original['loan_amount'].unique()))\n",
    "print(\"rate_of_interest: \", len(X_original['rate_of_interest'].unique()))\n",
    "print(\"Interest_rate_spread: \", len(X_original['Interest_rate_spread'].unique()))\n",
    "print(\"Upfront_charges: \", len(X_original['Upfront_charges'].unique()))\n",
    "print(\"term: \", len(X_original['term'].unique()))\n",
    "print(\"Neg_ammortization: \", len(X_original['Neg_ammortization'].unique()))\n",
    "print(\"interest_only: \", len(X_original['interest_only'].unique()))\n",
    "print(\"lump_sum_payment: \", len(X_original['lump_sum_payment'].unique()))\n",
    "print(\"property_value: \", len(X_original['property_value'].unique()))\n",
    "print(\"construction_type: \", len(X_original['construction_type'].unique()))\n",
    "print(\"occupancy_type: \", len(X_original['occupancy_type'].unique()))\n",
    "print(\"Secured_by: \", len(X_original['Secured_by'].unique()))\n",
    "print(\"total_units: \", len(X_original['total_units'].unique()))\n",
    "print(\"income: \", len(X_original['income'].unique()))\n",
    "print(\"credit_type: \", len(X_original['credit_type'].unique()))\n",
    "print(\"Credit_Score: \", len(X_original['Credit_Score'].unique()))\n",
    "print(\"co_applicant_credit_type: \", len(X_original['co_applicant_credit_type'].unique()))\n",
    "print(\"age: \", len(X_original['age'].unique()))\n",
    "print(\"submission_of_application: \", len(X_original['submission_of_application'].unique()))\n",
    "print(\"LTV: \", len(X_original['LTV'].unique()))\n",
    "print(\"Region: \", len(X_original['Region'].unique()))\n",
    "print(\"Security_Type: \", len(X_original['Security_Type'].unique()))\n",
    "print(\"dtir1: \", len(X_original['dtir1'].unique()))"
   ]
  },
  {
   "cell_type": "code",
   "execution_count": 162,
   "id": "d09049e7",
   "metadata": {},
   "outputs": [],
   "source": [
    "data.drop(['Interest_rate_spread', 'Upfront_charges'], axis=1, inplace=True)"
   ]
  },
  {
   "cell_type": "code",
   "execution_count": 163,
   "id": "80a51624",
   "metadata": {},
   "outputs": [],
   "source": [
    "from sklearn.preprocessing import LabelEncoder\n",
    "le = LabelEncoder()\n",
    "X_original['loan_limit'] = le.fit_transform(X_original['loan_limit'])\n",
    "X_original['Gender'] = le.fit_transform(X_original['Gender'])\n",
    "X_original['approv_in_adv'] = le.fit_transform(X_original['approv_in_adv'])\n",
    "X_original['loan_type'] = le.fit_transform(X_original['loan_type'])\n",
    "X_original['loan_purpose'] = le.fit_transform(X_original['loan_purpose'])\n",
    "X_original['Credit_Worthiness'] = le.fit_transform(X_original['Credit_Worthiness'])\n",
    "X_original['open_credit'] = le.fit_transform(X_original['open_credit'])\n",
    "X_original['business_or_commercial'] = le.fit_transform(X_original['business_or_commercial'])\n",
    "X_original['credit_type'] = le.fit_transform(X_original['credit_type'])\n",
    "X_original['co_applicant_credit_type'] = le.fit_transform(X_original['co_applicant_credit_type'])\n",
    "X_original['submission_of_application'] = le.fit_transform(X_original['submission_of_application'])\n",
    "X_original['Region'] = le.fit_transform(X_original['Region'])\n",
    "X_original['Security_Type'] = le.fit_transform(X_original['Security_Type'])\n",
    "X_original['Neg_ammortization'] = le.fit_transform(X_original['Neg_ammortization'])\n",
    "X_original['interest_only'] = le.fit_transform(X_original['interest_only'])\n",
    "X_original['construction_type'] = le.fit_transform(X_original['construction_type'])\n",
    "X_original['occupancy_type'] = le.fit_transform(X_original['occupancy_type'])\n",
    "X_original['Secured_by'] = le.fit_transform(X_original['Secured_by'])\n",
    "X_original['age'] = le.fit_transform(X_original['age'])\n",
    "X_original['lump_sum_payment'] = le.fit_transform(X_original['lump_sum_payment'])\n",
    "X_original['total_units'] = data_normalized['total_units']"
   ]
  },
  {
   "cell_type": "code",
   "execution_count": 164,
   "id": "1859b1b9",
   "metadata": {},
   "outputs": [
    {
     "data": {
      "text/html": [
       "<div>\n",
       "<style scoped>\n",
       "    .dataframe tbody tr th:only-of-type {\n",
       "        vertical-align: middle;\n",
       "    }\n",
       "\n",
       "    .dataframe tbody tr th {\n",
       "        vertical-align: top;\n",
       "    }\n",
       "\n",
       "    .dataframe thead th {\n",
       "        text-align: right;\n",
       "    }\n",
       "</style>\n",
       "<table border=\"1\" class=\"dataframe\">\n",
       "  <thead>\n",
       "    <tr style=\"text-align: right;\">\n",
       "      <th></th>\n",
       "      <th>loan_limit</th>\n",
       "      <th>Gender</th>\n",
       "      <th>approv_in_adv</th>\n",
       "      <th>loan_type</th>\n",
       "      <th>loan_purpose</th>\n",
       "      <th>Credit_Worthiness</th>\n",
       "      <th>open_credit</th>\n",
       "      <th>business_or_commercial</th>\n",
       "      <th>loan_amount</th>\n",
       "      <th>rate_of_interest</th>\n",
       "      <th>Interest_rate_spread</th>\n",
       "      <th>Upfront_charges</th>\n",
       "      <th>term</th>\n",
       "      <th>Neg_ammortization</th>\n",
       "      <th>interest_only</th>\n",
       "      <th>lump_sum_payment</th>\n",
       "      <th>property_value</th>\n",
       "      <th>construction_type</th>\n",
       "      <th>occupancy_type</th>\n",
       "      <th>Secured_by</th>\n",
       "      <th>total_units</th>\n",
       "      <th>income</th>\n",
       "      <th>credit_type</th>\n",
       "      <th>Credit_Score</th>\n",
       "      <th>co_applicant_credit_type</th>\n",
       "      <th>age</th>\n",
       "      <th>submission_of_application</th>\n",
       "      <th>LTV</th>\n",
       "      <th>Region</th>\n",
       "      <th>Security_Type</th>\n",
       "      <th>Status</th>\n",
       "      <th>dtir1</th>\n",
       "    </tr>\n",
       "  </thead>\n",
       "  <tbody>\n",
       "    <tr>\n",
       "      <th>0</th>\n",
       "      <td>0</td>\n",
       "      <td>2</td>\n",
       "      <td>0</td>\n",
       "      <td>1</td>\n",
       "      <td>0</td>\n",
       "      <td>0</td>\n",
       "      <td>0</td>\n",
       "      <td>0</td>\n",
       "      <td>206500</td>\n",
       "      <td>4.039763</td>\n",
       "      <td>4.039763</td>\n",
       "      <td>4.039763</td>\n",
       "      <td>360.0</td>\n",
       "      <td>1</td>\n",
       "      <td>1</td>\n",
       "      <td>0</td>\n",
       "      <td>4.039763</td>\n",
       "      <td>1</td>\n",
       "      <td>1</td>\n",
       "      <td>0</td>\n",
       "      <td>1</td>\n",
       "      <td>4980.0</td>\n",
       "      <td>2</td>\n",
       "      <td>552</td>\n",
       "      <td>1</td>\n",
       "      <td>3</td>\n",
       "      <td>1</td>\n",
       "      <td>4.039763</td>\n",
       "      <td>0</td>\n",
       "      <td>1</td>\n",
       "      <td>1</td>\n",
       "      <td>4.039763</td>\n",
       "    </tr>\n",
       "    <tr>\n",
       "      <th>1</th>\n",
       "      <td>0</td>\n",
       "      <td>2</td>\n",
       "      <td>0</td>\n",
       "      <td>2</td>\n",
       "      <td>3</td>\n",
       "      <td>0</td>\n",
       "      <td>0</td>\n",
       "      <td>1</td>\n",
       "      <td>466500</td>\n",
       "      <td>4.039763</td>\n",
       "      <td>4.039763</td>\n",
       "      <td>4.039763</td>\n",
       "      <td>360.0</td>\n",
       "      <td>1</td>\n",
       "      <td>1</td>\n",
       "      <td>1</td>\n",
       "      <td>4.039763</td>\n",
       "      <td>1</td>\n",
       "      <td>1</td>\n",
       "      <td>0</td>\n",
       "      <td>1</td>\n",
       "      <td>0.0</td>\n",
       "      <td>2</td>\n",
       "      <td>765</td>\n",
       "      <td>1</td>\n",
       "      <td>2</td>\n",
       "      <td>1</td>\n",
       "      <td>4.039763</td>\n",
       "      <td>0</td>\n",
       "      <td>1</td>\n",
       "      <td>1</td>\n",
       "      <td>4.039763</td>\n",
       "    </tr>\n",
       "    <tr>\n",
       "      <th>2</th>\n",
       "      <td>0</td>\n",
       "      <td>2</td>\n",
       "      <td>0</td>\n",
       "      <td>1</td>\n",
       "      <td>2</td>\n",
       "      <td>0</td>\n",
       "      <td>0</td>\n",
       "      <td>0</td>\n",
       "      <td>656500</td>\n",
       "      <td>4.039763</td>\n",
       "      <td>4.039763</td>\n",
       "      <td>4.039763</td>\n",
       "      <td>360.0</td>\n",
       "      <td>1</td>\n",
       "      <td>1</td>\n",
       "      <td>1</td>\n",
       "      <td>4.039763</td>\n",
       "      <td>1</td>\n",
       "      <td>1</td>\n",
       "      <td>0</td>\n",
       "      <td>1</td>\n",
       "      <td>8640.0</td>\n",
       "      <td>2</td>\n",
       "      <td>880</td>\n",
       "      <td>1</td>\n",
       "      <td>1</td>\n",
       "      <td>1</td>\n",
       "      <td>4.039763</td>\n",
       "      <td>0</td>\n",
       "      <td>1</td>\n",
       "      <td>1</td>\n",
       "      <td>4.039763</td>\n",
       "    </tr>\n",
       "    <tr>\n",
       "      <th>3</th>\n",
       "      <td>0</td>\n",
       "      <td>2</td>\n",
       "      <td>0</td>\n",
       "      <td>0</td>\n",
       "      <td>3</td>\n",
       "      <td>0</td>\n",
       "      <td>0</td>\n",
       "      <td>1</td>\n",
       "      <td>106500</td>\n",
       "      <td>4.039763</td>\n",
       "      <td>4.039763</td>\n",
       "      <td>4.039763</td>\n",
       "      <td>240.0</td>\n",
       "      <td>1</td>\n",
       "      <td>1</td>\n",
       "      <td>0</td>\n",
       "      <td>4.039763</td>\n",
       "      <td>1</td>\n",
       "      <td>1</td>\n",
       "      <td>0</td>\n",
       "      <td>1</td>\n",
       "      <td>1680.0</td>\n",
       "      <td>2</td>\n",
       "      <td>880</td>\n",
       "      <td>1</td>\n",
       "      <td>2</td>\n",
       "      <td>1</td>\n",
       "      <td>4.039763</td>\n",
       "      <td>2</td>\n",
       "      <td>1</td>\n",
       "      <td>1</td>\n",
       "      <td>4.039763</td>\n",
       "    </tr>\n",
       "    <tr>\n",
       "      <th>4</th>\n",
       "      <td>0</td>\n",
       "      <td>2</td>\n",
       "      <td>0</td>\n",
       "      <td>2</td>\n",
       "      <td>2</td>\n",
       "      <td>0</td>\n",
       "      <td>0</td>\n",
       "      <td>1</td>\n",
       "      <td>406500</td>\n",
       "      <td>4.039763</td>\n",
       "      <td>4.039763</td>\n",
       "      <td>4.039763</td>\n",
       "      <td>360.0</td>\n",
       "      <td>1</td>\n",
       "      <td>1</td>\n",
       "      <td>1</td>\n",
       "      <td>4.039763</td>\n",
       "      <td>1</td>\n",
       "      <td>1</td>\n",
       "      <td>0</td>\n",
       "      <td>1</td>\n",
       "      <td>7560.0</td>\n",
       "      <td>2</td>\n",
       "      <td>768</td>\n",
       "      <td>1</td>\n",
       "      <td>2</td>\n",
       "      <td>0</td>\n",
       "      <td>4.039763</td>\n",
       "      <td>0</td>\n",
       "      <td>1</td>\n",
       "      <td>1</td>\n",
       "      <td>4.039763</td>\n",
       "    </tr>\n",
       "  </tbody>\n",
       "</table>\n",
       "</div>"
      ],
      "text/plain": [
       "   loan_limit  Gender  approv_in_adv  loan_type  loan_purpose  \\\n",
       "0           0       2              0          1             0   \n",
       "1           0       2              0          2             3   \n",
       "2           0       2              0          1             2   \n",
       "3           0       2              0          0             3   \n",
       "4           0       2              0          2             2   \n",
       "\n",
       "   Credit_Worthiness  open_credit  business_or_commercial  loan_amount  \\\n",
       "0                  0            0                       0       206500   \n",
       "1                  0            0                       1       466500   \n",
       "2                  0            0                       0       656500   \n",
       "3                  0            0                       1       106500   \n",
       "4                  0            0                       1       406500   \n",
       "\n",
       "   rate_of_interest  Interest_rate_spread  Upfront_charges   term  \\\n",
       "0          4.039763              4.039763         4.039763  360.0   \n",
       "1          4.039763              4.039763         4.039763  360.0   \n",
       "2          4.039763              4.039763         4.039763  360.0   \n",
       "3          4.039763              4.039763         4.039763  240.0   \n",
       "4          4.039763              4.039763         4.039763  360.0   \n",
       "\n",
       "   Neg_ammortization  interest_only  lump_sum_payment  property_value  \\\n",
       "0                  1              1                 0        4.039763   \n",
       "1                  1              1                 1        4.039763   \n",
       "2                  1              1                 1        4.039763   \n",
       "3                  1              1                 0        4.039763   \n",
       "4                  1              1                 1        4.039763   \n",
       "\n",
       "   construction_type  occupancy_type  Secured_by  total_units  income  \\\n",
       "0                  1               1           0            1  4980.0   \n",
       "1                  1               1           0            1     0.0   \n",
       "2                  1               1           0            1  8640.0   \n",
       "3                  1               1           0            1  1680.0   \n",
       "4                  1               1           0            1  7560.0   \n",
       "\n",
       "   credit_type  Credit_Score  co_applicant_credit_type  age  \\\n",
       "0            2           552                         1    3   \n",
       "1            2           765                         1    2   \n",
       "2            2           880                         1    1   \n",
       "3            2           880                         1    2   \n",
       "4            2           768                         1    2   \n",
       "\n",
       "   submission_of_application       LTV  Region  Security_Type  Status  \\\n",
       "0                          1  4.039763       0              1       1   \n",
       "1                          1  4.039763       0              1       1   \n",
       "2                          1  4.039763       0              1       1   \n",
       "3                          1  4.039763       2              1       1   \n",
       "4                          0  4.039763       0              1       1   \n",
       "\n",
       "      dtir1  \n",
       "0  4.039763  \n",
       "1  4.039763  \n",
       "2  4.039763  \n",
       "3  4.039763  \n",
       "4  4.039763  "
      ]
     },
     "execution_count": 164,
     "metadata": {},
     "output_type": "execute_result"
    }
   ],
   "source": [
    "pd.set_option('display.max_columns', None)\n",
    "X_original.head()"
   ]
  },
  {
   "cell_type": "code",
   "execution_count": 165,
   "id": "1dd59cb9",
   "metadata": {},
   "outputs": [],
   "source": [
    "target = X_original['Status']\n",
    "X_original.drop(['Status'], axis=1, inplace=True)"
   ]
  },
  {
   "cell_type": "code",
   "execution_count": 166,
   "id": "98cc6aad",
   "metadata": {},
   "outputs": [
    {
     "data": {
      "text/plain": [
       "0         1\n",
       "1         1\n",
       "2         1\n",
       "3         1\n",
       "4         1\n",
       "         ..\n",
       "148665    0\n",
       "148666    0\n",
       "148667    1\n",
       "148668    0\n",
       "148669    1\n",
       "Name: Status, Length: 143942, dtype: int64"
      ]
     },
     "execution_count": 166,
     "metadata": {},
     "output_type": "execute_result"
    }
   ],
   "source": [
    "target"
   ]
  },
  {
   "cell_type": "code",
   "execution_count": 167,
   "id": "9ff5565b",
   "metadata": {},
   "outputs": [],
   "source": [
    "Y_original = target"
   ]
  },
  {
   "cell_type": "code",
   "execution_count": 168,
   "id": "5a8e780c",
   "metadata": {},
   "outputs": [
    {
     "data": {
      "text/plain": [
       "KMeans(n_clusters=2, random_state=0)"
      ]
     },
     "execution_count": 168,
     "metadata": {},
     "output_type": "execute_result"
    }
   ],
   "source": [
    "kmeans = KMeans(n_clusters=2, random_state=0) \n",
    "\n",
    "kmeans.fit(X_original)"
   ]
  },
  {
   "cell_type": "code",
   "execution_count": 169,
   "id": "51899e2a",
   "metadata": {},
   "outputs": [
    {
     "data": {
      "text/plain": [
       "array([[1.22326048e-01, 1.47568667e+00, 1.33678276e-01, 1.88972121e-01,\n",
       "        2.11318763e+00, 4.43534893e-02, 9.42157696e-03, 9.55955415e-01,\n",
       "        5.28491145e+05, 3.96674872e+00, 6.99231994e-01, 2.80202419e+03,\n",
       "        3.41958143e+02, 9.18397817e-01, 9.43238860e-01, 9.83344917e-01,\n",
       "        8.81989654e+05, 9.99974258e-01, 9.61000849e-01, 2.57420135e-05,\n",
       "        1.04571782e+00, 9.80547873e+03, 1.21363297e+00, 7.00419106e+02,\n",
       "        5.47378176e-01, 2.09578603e+00, 3.73207712e-01, 6.48033469e+01,\n",
       "        1.44361212e+00, 9.99974258e-01, 3.52192570e+01],\n",
       "       [4.76426091e-02, 1.65504544e+00, 1.68885294e-01, 3.93187116e-01,\n",
       "        1.80618488e+00, 4.36557400e-02, 1.64612969e-03, 8.26785289e-01,\n",
       "        2.59118869e+05, 4.06675120e+00, 1.55006242e+00, 2.21401362e+03,\n",
       "        3.32545706e+02, 8.93667634e-01, 9.56030258e-01, 9.73956896e-01,\n",
       "        2.88726170e+05, 9.99695514e-01, 9.76107331e-01, 3.04486417e-04,\n",
       "        1.01243637e+00, 5.32706575e+03, 1.37780104e+00, 6.99430972e+02,\n",
       "        4.81840240e-01, 2.29616062e+00, 7.45763357e-01, 6.60755040e+01,\n",
       "        1.40539512e+00, 9.99695514e-01, 3.11766991e+01]])"
      ]
     },
     "execution_count": 169,
     "metadata": {},
     "output_type": "execute_result"
    }
   ],
   "source": [
    "kmeans.cluster_centers_"
   ]
  },
  {
   "cell_type": "code",
   "execution_count": 170,
   "id": "4e0c20d3",
   "metadata": {},
   "outputs": [
    {
     "data": {
      "text/plain": [
       "1.300086100136427e+16"
      ]
     },
     "execution_count": 170,
     "metadata": {},
     "output_type": "execute_result"
    }
   ],
   "source": [
    "kmeans.inertia_"
   ]
  },
  {
   "cell_type": "code",
   "execution_count": 171,
   "id": "1808e78c",
   "metadata": {},
   "outputs": [
    {
     "name": "stdout",
     "output_type": "stream",
     "text": [
      "Result: 64224 out of 143942 samples were correctly labeled.\n"
     ]
    }
   ],
   "source": [
    "labels = kmeans.labels_\n",
    "\n",
    "# check how many of the samples were correctly labeled\n",
    "correct_labels = sum(Y_original == labels)\n",
    "\n",
    "print(\"Result: %d out of %d samples were correctly labeled.\" % (correct_labels, Y_original.size))"
   ]
  },
  {
   "cell_type": "code",
   "execution_count": 173,
   "id": "29d5b05c",
   "metadata": {},
   "outputs": [
    {
     "name": "stdout",
     "output_type": "stream",
     "text": [
      "Accuracy score: 0.45\n"
     ]
    }
   ],
   "source": [
    "print('Accuracy score: {0:0.2f}'. format(correct_labels/float(Y_original.size)))"
   ]
  },
  {
   "cell_type": "code",
   "execution_count": 174,
   "id": "64024d7d",
   "metadata": {},
   "outputs": [
    {
     "data": {
      "image/png": "[encoded data removed]",
      "text/plain": [
       "<Figure size 640x480 with 1 Axes>"
      ]
     },
     "metadata": {},
     "output_type": "display_data"
    }
   ],
   "source": [
    "from sklearn.cluster import KMeans\n",
    "cs = []\n",
    "for i in range(1, 11):\n",
    "    kmeans = KMeans(n_clusters = i, init = 'k-means++', max_iter = 300, n_init = 10, random_state = 0)\n",
    "    kmeans.fit(X_original)\n",
    "    cs.append(kmeans.inertia_)\n",
    "plt.plot(range(1, 11), cs)\n",
    "plt.title('The Elbow Method')\n",
    "plt.xlabel('Number of clusters')\n",
    "plt.ylabel('CS')\n",
    "plt.show()"
   ]
  },
  {
   "cell_type": "code",
   "execution_count": null,
   "id": "6d58ba6d",
   "metadata": {},
   "outputs": [],
   "source": []
  }
 ],
 "metadata": {
  "kernelspec": {
   "display_name": "Python 3 (ipykernel)",
   "language": "python",
   "name": "python3"
  },
  "language_info": {
   "codemirror_mode": {
    "name": "ipython",
    "version": 3
   },
   "file_extension": ".py",
   "mimetype": "text/x-python",
   "name": "python",
   "nbconvert_exporter": "python",
   "pygments_lexer": "ipython3",
   "version": "3.9.13"
  }
 },
 "nbformat": 4,
 "nbformat_minor": 5
}
